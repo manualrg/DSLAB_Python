{
 "cells": [
  {
   "cell_type": "markdown",
   "metadata": {},
   "source": [
    "# MLE"
   ]
  },
  {
   "cell_type": "code",
   "execution_count": 10,
   "metadata": {},
   "outputs": [],
   "source": [
    "import pandas as pd\n",
    "import numpy as np\n",
    "import matplotlib.pyplot as plt\n",
    "import seaborn as sns\n",
    "%matplotlib inline"
   ]
  },
  {
   "cell_type": "code",
   "execution_count": 11,
   "metadata": {},
   "outputs": [],
   "source": [
    "from scipy.stats import chi2_contingency"
   ]
  },
  {
   "cell_type": "code",
   "execution_count": 12,
   "metadata": {},
   "outputs": [],
   "source": [
    "from functools import reduce\n",
    "import itertools"
   ]
  },
  {
   "cell_type": "code",
   "execution_count": 13,
   "metadata": {},
   "outputs": [],
   "source": [
    "from sklearn.preprocessing import StandardScaler\n",
    "from sklearn.model_selection import train_test_split\n",
    "from sklearn.linear_model import LogisticRegression\n",
    "from sklearn.metrics import roc_auc_score, accuracy_score"
   ]
  },
  {
   "cell_type": "markdown",
   "metadata": {},
   "source": [
    "## Load Data"
   ]
  },
  {
   "cell_type": "code",
   "execution_count": 14,
   "metadata": {},
   "outputs": [
    {
     "name": "stdout",
     "output_type": "stream",
     "text": [
      "incGE50k,age,workclass,fnlwgt,education,education_num,marital_status,occupation,relationship,race,sex,capital_gain,capital_loss,hours_per_week,native_country,id\n",
      "0,90,,77053,HS-grad,9,Widowed,,Not-in-family,White,Female,0,4356,40,United-States,1\n",
      "0,66,,186061,Some-college,10,Widowed,,Unmarried,Black,Female,0,4356,40,United-States,3\n",
      "0,,Private,140359,7th-8th,4,Divorced,Machine-op-inspct,Unmarried,White,Female,0,3900,40,United-States,4\n",
      "0,34,Private,216864,HS-grad,9,Divorced,Other-service,Unmarried,White,Female,0,3770,45,United-States,6\n",
      "0,68,Federal-gov,422013,HS-grad,9,Divorced,Prof-specialty,Not-in-family,White,Female,0,3683,40,United-States,8\n",
      "0,29,Private,77009,11th,7,Separated,Sales,Not-in-family,White,Female,0,2754,42,United-States,9\n",
      "0,61,Private,29059,HS-grad,9,Divorced,Sales,Unmarried,White,Female,0,2754,25,United-States,10\n",
      "0,51,Private,153870,Some-college,10,Married-civ-spouse,Transport-moving,Husband,White,Male,0,2603,40,United-States,11\n",
      "0,61,,135285,HS-grad,9,Married-civ-spouse,,Husband,White,Male,0,2603,32,United-States,12\n"
     ]
    }
   ],
   "source": [
    "!head -n 10 ./data/adultCensusIncome_train.csv"
   ]
  },
  {
   "cell_type": "code",
   "execution_count": 15,
   "metadata": {},
   "outputs": [
    {
     "name": "stderr",
     "output_type": "stream",
     "text": [
      "C:\\Anaconda3\\lib\\site-packages\\pandas\\core\\frame.py:6211: FutureWarning: Sorting because non-concatenation axis is not aligned. A future version\n",
      "of pandas will change to not sort by default.\n",
      "\n",
      "To accept the future behavior, pass 'sort=False'.\n",
      "\n",
      "To retain the current behavior and silence the warning, pass 'sort=True'.\n",
      "\n",
      "  sort=sort)\n"
     ]
    },
    {
     "data": {
      "text/html": [
       "<div>\n",
       "<style scoped>\n",
       "    .dataframe tbody tr th:only-of-type {\n",
       "        vertical-align: middle;\n",
       "    }\n",
       "\n",
       "    .dataframe tbody tr th {\n",
       "        vertical-align: top;\n",
       "    }\n",
       "\n",
       "    .dataframe thead th {\n",
       "        text-align: right;\n",
       "    }\n",
       "</style>\n",
       "<table border=\"1\" class=\"dataframe\">\n",
       "  <thead>\n",
       "    <tr style=\"text-align: right;\">\n",
       "      <th></th>\n",
       "      <th>age</th>\n",
       "      <th>capital_gain</th>\n",
       "      <th>capital_loss</th>\n",
       "      <th>education</th>\n",
       "      <th>education_num</th>\n",
       "      <th>flg_train</th>\n",
       "      <th>fnlwgt</th>\n",
       "      <th>hours_per_week</th>\n",
       "      <th>id</th>\n",
       "      <th>incGE50k</th>\n",
       "      <th>marital_status</th>\n",
       "      <th>native_country</th>\n",
       "      <th>occupation</th>\n",
       "      <th>race</th>\n",
       "      <th>relationship</th>\n",
       "      <th>sex</th>\n",
       "      <th>workclass</th>\n",
       "    </tr>\n",
       "  </thead>\n",
       "  <tbody>\n",
       "    <tr>\n",
       "      <th>0</th>\n",
       "      <td>90.0</td>\n",
       "      <td>0</td>\n",
       "      <td>4356</td>\n",
       "      <td>HS-grad</td>\n",
       "      <td>9</td>\n",
       "      <td>1</td>\n",
       "      <td>77053</td>\n",
       "      <td>40</td>\n",
       "      <td>1</td>\n",
       "      <td>0.0</td>\n",
       "      <td>Widowed</td>\n",
       "      <td>United-States</td>\n",
       "      <td>NaN</td>\n",
       "      <td>White</td>\n",
       "      <td>Not-in-family</td>\n",
       "      <td>Female</td>\n",
       "      <td>NaN</td>\n",
       "    </tr>\n",
       "    <tr>\n",
       "      <th>1</th>\n",
       "      <td>66.0</td>\n",
       "      <td>0</td>\n",
       "      <td>4356</td>\n",
       "      <td>Some-college</td>\n",
       "      <td>10</td>\n",
       "      <td>1</td>\n",
       "      <td>186061</td>\n",
       "      <td>40</td>\n",
       "      <td>3</td>\n",
       "      <td>0.0</td>\n",
       "      <td>Widowed</td>\n",
       "      <td>United-States</td>\n",
       "      <td>NaN</td>\n",
       "      <td>Black</td>\n",
       "      <td>Unmarried</td>\n",
       "      <td>Female</td>\n",
       "      <td>NaN</td>\n",
       "    </tr>\n",
       "    <tr>\n",
       "      <th>2</th>\n",
       "      <td>NaN</td>\n",
       "      <td>0</td>\n",
       "      <td>3900</td>\n",
       "      <td>7th-8th</td>\n",
       "      <td>4</td>\n",
       "      <td>1</td>\n",
       "      <td>140359</td>\n",
       "      <td>40</td>\n",
       "      <td>4</td>\n",
       "      <td>0.0</td>\n",
       "      <td>Divorced</td>\n",
       "      <td>United-States</td>\n",
       "      <td>Machine-op-inspct</td>\n",
       "      <td>White</td>\n",
       "      <td>Unmarried</td>\n",
       "      <td>Female</td>\n",
       "      <td>Private</td>\n",
       "    </tr>\n",
       "    <tr>\n",
       "      <th>3</th>\n",
       "      <td>34.0</td>\n",
       "      <td>0</td>\n",
       "      <td>3770</td>\n",
       "      <td>HS-grad</td>\n",
       "      <td>9</td>\n",
       "      <td>1</td>\n",
       "      <td>216864</td>\n",
       "      <td>45</td>\n",
       "      <td>6</td>\n",
       "      <td>0.0</td>\n",
       "      <td>Divorced</td>\n",
       "      <td>United-States</td>\n",
       "      <td>Other-service</td>\n",
       "      <td>White</td>\n",
       "      <td>Unmarried</td>\n",
       "      <td>Female</td>\n",
       "      <td>Private</td>\n",
       "    </tr>\n",
       "    <tr>\n",
       "      <th>4</th>\n",
       "      <td>68.0</td>\n",
       "      <td>0</td>\n",
       "      <td>3683</td>\n",
       "      <td>HS-grad</td>\n",
       "      <td>9</td>\n",
       "      <td>1</td>\n",
       "      <td>422013</td>\n",
       "      <td>40</td>\n",
       "      <td>8</td>\n",
       "      <td>0.0</td>\n",
       "      <td>Divorced</td>\n",
       "      <td>United-States</td>\n",
       "      <td>Prof-specialty</td>\n",
       "      <td>White</td>\n",
       "      <td>Not-in-family</td>\n",
       "      <td>Female</td>\n",
       "      <td>Federal-gov</td>\n",
       "    </tr>\n",
       "  </tbody>\n",
       "</table>\n",
       "</div>"
      ],
      "text/plain": [
       "    age  capital_gain  capital_loss     education  education_num  flg_train  \\\n",
       "0  90.0             0          4356       HS-grad              9          1   \n",
       "1  66.0             0          4356  Some-college             10          1   \n",
       "2   NaN             0          3900       7th-8th              4          1   \n",
       "3  34.0             0          3770       HS-grad              9          1   \n",
       "4  68.0             0          3683       HS-grad              9          1   \n",
       "\n",
       "   fnlwgt  hours_per_week  id  incGE50k marital_status native_country  \\\n",
       "0   77053              40   1       0.0        Widowed  United-States   \n",
       "1  186061              40   3       0.0        Widowed  United-States   \n",
       "2  140359              40   4       0.0       Divorced  United-States   \n",
       "3  216864              45   6       0.0       Divorced  United-States   \n",
       "4  422013              40   8       0.0       Divorced  United-States   \n",
       "\n",
       "          occupation   race   relationship     sex    workclass  \n",
       "0                NaN  White  Not-in-family  Female          NaN  \n",
       "1                NaN  Black      Unmarried  Female          NaN  \n",
       "2  Machine-op-inspct  White      Unmarried  Female      Private  \n",
       "3      Other-service  White      Unmarried  Female      Private  \n",
       "4     Prof-specialty  White  Not-in-family  Female  Federal-gov  "
      ]
     },
     "execution_count": 15,
     "metadata": {},
     "output_type": "execute_result"
    }
   ],
   "source": [
    "train = pd.read_csv(\"./data/adultCensusIncome_train.csv\")\n",
    "train[\"flg_train\"] = 1\n",
    "\n",
    "score = pd.read_csv(\"./data/adultCensusIncome_score.csv\")\n",
    "score[\"flg_train\"] = 0\n",
    "\n",
    "data= train.append(score)\n",
    "data[:5]"
   ]
  },
  {
   "cell_type": "code",
   "execution_count": 16,
   "metadata": {},
   "outputs": [
    {
     "name": "stdout",
     "output_type": "stream",
     "text": [
      "Number of observations in train 24,420 and in score 8,141\n"
     ]
    }
   ],
   "source": [
    "label = \"incGE50k\"\n",
    "id = \"id\"\n",
    "\n",
    "n_train = train.shape[0]\n",
    "n_score = score.shape[0]\n",
    "n_data = n_train + n_score\n",
    "print(\"Number of observations in train {:,} and in score {:,}\".format(n_train, n_score))"
   ]
  },
  {
   "cell_type": "markdown",
   "metadata": {},
   "source": [
    "## Metadata Analysis"
   ]
  },
  {
   "cell_type": "code",
   "execution_count": 17,
   "metadata": {},
   "outputs": [
    {
     "name": "stdout",
     "output_type": "stream",
     "text": [
      "Numeric features (6): ['age', 'capital_gain', 'capital_loss', 'education_num', 'fnlwgt', 'hours_per_week'] \n",
      "String features (8): ['education', 'marital_status', 'native_country', 'occupation', 'race', 'relationship', 'sex', 'workclass']\n"
     ]
    }
   ],
   "source": [
    "num_features = [feature for feature in data.select_dtypes(exclude=['object']).columns.values if feature not in [label, id, \"flg_train\"]]\n",
    "str_features = [feature for feature in data.select_dtypes(include=['object']).columns.values if feature not in [label, id, \"flg_train\"]]\n",
    "\n",
    "print(\"Numeric features ({}): {} \\nString features ({}): {}\".format(len(num_features), num_features, len(str_features), str_features) )"
   ]
  },
  {
   "cell_type": "markdown",
   "metadata": {},
   "source": [
    " ## Univariate EDA"
   ]
  },
  {
   "cell_type": "markdown",
   "metadata": {},
   "source": [
    "### Response Analysis"
   ]
  },
  {
   "cell_type": "code",
   "execution_count": 18,
   "metadata": {},
   "outputs": [
    {
     "name": "stdout",
     "output_type": "stream",
     "text": [
      "Event proportion: 0.24078624078624078\n"
     ]
    }
   ],
   "source": [
    "eprop = data[label].mean()\n",
    "\n",
    "print(\"Event proportion:\", eprop)"
   ]
  },
  {
   "cell_type": "markdown",
   "metadata": {},
   "source": [
    "### Descriptive Statistics\n",
    "* Numeric Descriptive Statistics\n",
    "* Categorical data Descriptive Statistics\n",
    "* checkMissing\n",
    "* checkSkewness\n",
    "* checkCatFreq"
   ]
  },
  {
   "cell_type": "code",
   "execution_count": 19,
   "metadata": {},
   "outputs": [
    {
     "data": {
      "text/html": [
       "<div>\n",
       "<style scoped>\n",
       "    .dataframe tbody tr th:only-of-type {\n",
       "        vertical-align: middle;\n",
       "    }\n",
       "\n",
       "    .dataframe tbody tr th {\n",
       "        vertical-align: top;\n",
       "    }\n",
       "\n",
       "    .dataframe thead th {\n",
       "        text-align: right;\n",
       "    }\n",
       "</style>\n",
       "<table border=\"1\" class=\"dataframe\">\n",
       "  <thead>\n",
       "    <tr style=\"text-align: right;\">\n",
       "      <th></th>\n",
       "      <th>count_x</th>\n",
       "      <th>count_y</th>\n",
       "      <th>mean_x</th>\n",
       "      <th>mean_y</th>\n",
       "      <th>std_x</th>\n",
       "      <th>std_y</th>\n",
       "      <th>min_x</th>\n",
       "      <th>min_y</th>\n",
       "      <th>max_x</th>\n",
       "      <th>max_y</th>\n",
       "    </tr>\n",
       "  </thead>\n",
       "  <tbody>\n",
       "    <tr>\n",
       "      <th>age</th>\n",
       "      <td>22544.0</td>\n",
       "      <td>7535.0</td>\n",
       "      <td>37.989753</td>\n",
       "      <td>37.804114</td>\n",
       "      <td>13.232575</td>\n",
       "      <td>13.422268</td>\n",
       "      <td>17.0</td>\n",
       "      <td>17.0</td>\n",
       "      <td>90.0</td>\n",
       "      <td>90.0</td>\n",
       "    </tr>\n",
       "    <tr>\n",
       "      <th>capital_gain</th>\n",
       "      <td>24420.0</td>\n",
       "      <td>8141.0</td>\n",
       "      <td>1080.914333</td>\n",
       "      <td>1067.853581</td>\n",
       "      <td>7358.526298</td>\n",
       "      <td>7465.450622</td>\n",
       "      <td>0.0</td>\n",
       "      <td>0.0</td>\n",
       "      <td>99999.0</td>\n",
       "      <td>99999.0</td>\n",
       "    </tr>\n",
       "    <tr>\n",
       "      <th>capital_loss</th>\n",
       "      <td>24420.0</td>\n",
       "      <td>8141.0</td>\n",
       "      <td>87.303849</td>\n",
       "      <td>87.303771</td>\n",
       "      <td>402.700660</td>\n",
       "      <td>403.762565</td>\n",
       "      <td>0.0</td>\n",
       "      <td>0.0</td>\n",
       "      <td>4356.0</td>\n",
       "      <td>4356.0</td>\n",
       "    </tr>\n",
       "    <tr>\n",
       "      <th>education_num</th>\n",
       "      <td>24420.0</td>\n",
       "      <td>8141.0</td>\n",
       "      <td>10.088084</td>\n",
       "      <td>10.058469</td>\n",
       "      <td>2.565123</td>\n",
       "      <td>2.595407</td>\n",
       "      <td>1.0</td>\n",
       "      <td>1.0</td>\n",
       "      <td>16.0</td>\n",
       "      <td>16.0</td>\n",
       "    </tr>\n",
       "    <tr>\n",
       "      <th>fnlwgt</th>\n",
       "      <td>24420.0</td>\n",
       "      <td>8141.0</td>\n",
       "      <td>190264.555979</td>\n",
       "      <td>188319.977276</td>\n",
       "      <td>106250.886596</td>\n",
       "      <td>103411.745198</td>\n",
       "      <td>12285.0</td>\n",
       "      <td>13769.0</td>\n",
       "      <td>1484705.0</td>\n",
       "      <td>1161363.0</td>\n",
       "    </tr>\n",
       "    <tr>\n",
       "      <th>hours_per_week</th>\n",
       "      <td>24420.0</td>\n",
       "      <td>8141.0</td>\n",
       "      <td>40.470229</td>\n",
       "      <td>40.339148</td>\n",
       "      <td>12.336166</td>\n",
       "      <td>12.381391</td>\n",
       "      <td>1.0</td>\n",
       "      <td>1.0</td>\n",
       "      <td>99.0</td>\n",
       "      <td>99.0</td>\n",
       "    </tr>\n",
       "  </tbody>\n",
       "</table>\n",
       "</div>"
      ],
      "text/plain": [
       "                count_x  count_y         mean_x         mean_y          std_x  \\\n",
       "age             22544.0   7535.0      37.989753      37.804114      13.232575   \n",
       "capital_gain    24420.0   8141.0    1080.914333    1067.853581    7358.526298   \n",
       "capital_loss    24420.0   8141.0      87.303849      87.303771     402.700660   \n",
       "education_num   24420.0   8141.0      10.088084      10.058469       2.565123   \n",
       "fnlwgt          24420.0   8141.0  190264.555979  188319.977276  106250.886596   \n",
       "hours_per_week  24420.0   8141.0      40.470229      40.339148      12.336166   \n",
       "\n",
       "                        std_y    min_x    min_y      max_x      max_y  \n",
       "age                 13.422268     17.0     17.0       90.0       90.0  \n",
       "capital_gain      7465.450622      0.0      0.0    99999.0    99999.0  \n",
       "capital_loss       403.762565      0.0      0.0     4356.0     4356.0  \n",
       "education_num        2.595407      1.0      1.0       16.0       16.0  \n",
       "fnlwgt          103411.745198  12285.0  13769.0  1484705.0  1161363.0  \n",
       "hours_per_week      12.381391      1.0      1.0       99.0       99.0  "
      ]
     },
     "execution_count": 19,
     "metadata": {},
     "output_type": "execute_result"
    }
   ],
   "source": [
    "stats_num_train = train[num_features].describe().T\n",
    "stats_num_score = score[num_features].describe().T\n",
    "stats_num = pd.merge(stats_num_train, stats_num_score, how=\"left\", left_index=True, right_index=True)\n",
    "stats_num[[\"count_x\", \"count_y\", \"mean_x\", \"mean_y\", \"std_x\", \"std_y\", \"min_x\",\"min_y\",\"max_x\",\"max_y\"]]"
   ]
  },
  {
   "cell_type": "code",
   "execution_count": 20,
   "metadata": {},
   "outputs": [],
   "source": [
    "num_features = [feature for feature in num_features if feature not in [\"education_num\"]]\n",
    "str_features = str_features #+ [\"education_num\"]"
   ]
  },
  {
   "cell_type": "code",
   "execution_count": 21,
   "metadata": {},
   "outputs": [
    {
     "data": {
      "text/html": [
       "<div>\n",
       "<style scoped>\n",
       "    .dataframe tbody tr th:only-of-type {\n",
       "        vertical-align: middle;\n",
       "    }\n",
       "\n",
       "    .dataframe tbody tr th {\n",
       "        vertical-align: top;\n",
       "    }\n",
       "\n",
       "    .dataframe thead th {\n",
       "        text-align: right;\n",
       "    }\n",
       "</style>\n",
       "<table border=\"1\" class=\"dataframe\">\n",
       "  <thead>\n",
       "    <tr style=\"text-align: right;\">\n",
       "      <th></th>\n",
       "      <th>count_x</th>\n",
       "      <th>count_y</th>\n",
       "      <th>top_x</th>\n",
       "      <th>top_y</th>\n",
       "      <th>freq_x</th>\n",
       "      <th>freq_y</th>\n",
       "      <th>unique_x</th>\n",
       "      <th>unique_y</th>\n",
       "    </tr>\n",
       "  </thead>\n",
       "  <tbody>\n",
       "    <tr>\n",
       "      <th>workclass</th>\n",
       "      <td>23038</td>\n",
       "      <td>7687</td>\n",
       "      <td>Private</td>\n",
       "      <td>Private</td>\n",
       "      <td>17042</td>\n",
       "      <td>5654</td>\n",
       "      <td>8</td>\n",
       "      <td>8</td>\n",
       "    </tr>\n",
       "    <tr>\n",
       "      <th>education</th>\n",
       "      <td>24420</td>\n",
       "      <td>8141</td>\n",
       "      <td>HS-grad</td>\n",
       "      <td>HS-grad</td>\n",
       "      <td>7870</td>\n",
       "      <td>2631</td>\n",
       "      <td>16</td>\n",
       "      <td>16</td>\n",
       "    </tr>\n",
       "    <tr>\n",
       "      <th>marital_status</th>\n",
       "      <td>24420</td>\n",
       "      <td>8141</td>\n",
       "      <td>Married-civ-spouse</td>\n",
       "      <td>Married-civ-spouse</td>\n",
       "      <td>11231</td>\n",
       "      <td>3745</td>\n",
       "      <td>7</td>\n",
       "      <td>7</td>\n",
       "    </tr>\n",
       "    <tr>\n",
       "      <th>occupation</th>\n",
       "      <td>23034</td>\n",
       "      <td>7684</td>\n",
       "      <td>Prof-specialty</td>\n",
       "      <td>Prof-specialty</td>\n",
       "      <td>3118</td>\n",
       "      <td>1022</td>\n",
       "      <td>14</td>\n",
       "      <td>14</td>\n",
       "    </tr>\n",
       "    <tr>\n",
       "      <th>relationship</th>\n",
       "      <td>24420</td>\n",
       "      <td>8141</td>\n",
       "      <td>Husband</td>\n",
       "      <td>Husband</td>\n",
       "      <td>9892</td>\n",
       "      <td>3301</td>\n",
       "      <td>6</td>\n",
       "      <td>6</td>\n",
       "    </tr>\n",
       "    <tr>\n",
       "      <th>race</th>\n",
       "      <td>24420</td>\n",
       "      <td>8141</td>\n",
       "      <td>White</td>\n",
       "      <td>White</td>\n",
       "      <td>20881</td>\n",
       "      <td>6935</td>\n",
       "      <td>5</td>\n",
       "      <td>5</td>\n",
       "    </tr>\n",
       "    <tr>\n",
       "      <th>sex</th>\n",
       "      <td>24420</td>\n",
       "      <td>8141</td>\n",
       "      <td>Male</td>\n",
       "      <td>Male</td>\n",
       "      <td>16324</td>\n",
       "      <td>5466</td>\n",
       "      <td>2</td>\n",
       "      <td>2</td>\n",
       "    </tr>\n",
       "    <tr>\n",
       "      <th>native_country</th>\n",
       "      <td>23979</td>\n",
       "      <td>7999</td>\n",
       "      <td>United-States</td>\n",
       "      <td>United-States</td>\n",
       "      <td>21866</td>\n",
       "      <td>7304</td>\n",
       "      <td>41</td>\n",
       "      <td>39</td>\n",
       "    </tr>\n",
       "  </tbody>\n",
       "</table>\n",
       "</div>"
      ],
      "text/plain": [
       "               count_x count_y               top_x               top_y freq_x  \\\n",
       "workclass        23038    7687             Private             Private  17042   \n",
       "education        24420    8141             HS-grad             HS-grad   7870   \n",
       "marital_status   24420    8141  Married-civ-spouse  Married-civ-spouse  11231   \n",
       "occupation       23034    7684      Prof-specialty      Prof-specialty   3118   \n",
       "relationship     24420    8141             Husband             Husband   9892   \n",
       "race             24420    8141               White               White  20881   \n",
       "sex              24420    8141                Male                Male  16324   \n",
       "native_country   23979    7999       United-States       United-States  21866   \n",
       "\n",
       "               freq_y unique_x unique_y  \n",
       "workclass        5654        8        8  \n",
       "education        2631       16       16  \n",
       "marital_status   3745        7        7  \n",
       "occupation       1022       14       14  \n",
       "relationship     3301        6        6  \n",
       "race             6935        5        5  \n",
       "sex              5466        2        2  \n",
       "native_country   7304       41       39  "
      ]
     },
     "execution_count": 21,
     "metadata": {},
     "output_type": "execute_result"
    }
   ],
   "source": [
    "stats_str_train = train.describe(include=[\"O\"]).T\n",
    "stats_str_score = score.describe(include=[\"O\"]).T\n",
    "stats_str = pd.merge(stats_str_train, stats_str_score, how=\"left\", left_index=True, right_index=True)\n",
    "stats_str[[\"count_x\", \"count_y\", \"top_x\", \"top_y\", \"freq_x\", \"freq_y\", \"unique_x\", \"unique_y\"]]"
   ]
  },
  {
   "cell_type": "code",
   "execution_count": 22,
   "metadata": {},
   "outputs": [
    {
     "data": {
      "text/html": [
       "<div>\n",
       "<style scoped>\n",
       "    .dataframe tbody tr th:only-of-type {\n",
       "        vertical-align: middle;\n",
       "    }\n",
       "\n",
       "    .dataframe tbody tr th {\n",
       "        vertical-align: top;\n",
       "    }\n",
       "\n",
       "    .dataframe thead th {\n",
       "        text-align: right;\n",
       "    }\n",
       "</style>\n",
       "<table border=\"1\" class=\"dataframe\">\n",
       "  <thead>\n",
       "    <tr style=\"text-align: right;\">\n",
       "      <th></th>\n",
       "      <th>MI_count_train</th>\n",
       "      <th>MI_count_score</th>\n",
       "      <th>MI_count</th>\n",
       "      <th>MI_pct_train</th>\n",
       "      <th>MI_pct_score</th>\n",
       "      <th>MI_pct</th>\n",
       "    </tr>\n",
       "  </thead>\n",
       "  <tbody>\n",
       "    <tr>\n",
       "      <th>age</th>\n",
       "      <td>1876</td>\n",
       "      <td>606</td>\n",
       "      <td>2482</td>\n",
       "      <td>0.076822</td>\n",
       "      <td>0.074438</td>\n",
       "      <td>0.076226</td>\n",
       "    </tr>\n",
       "    <tr>\n",
       "      <th>occupation</th>\n",
       "      <td>1386</td>\n",
       "      <td>457</td>\n",
       "      <td>1843</td>\n",
       "      <td>0.056757</td>\n",
       "      <td>0.056136</td>\n",
       "      <td>0.056601</td>\n",
       "    </tr>\n",
       "    <tr>\n",
       "      <th>workclass</th>\n",
       "      <td>1382</td>\n",
       "      <td>454</td>\n",
       "      <td>1836</td>\n",
       "      <td>0.056593</td>\n",
       "      <td>0.055767</td>\n",
       "      <td>0.056386</td>\n",
       "    </tr>\n",
       "    <tr>\n",
       "      <th>native_country</th>\n",
       "      <td>441</td>\n",
       "      <td>142</td>\n",
       "      <td>583</td>\n",
       "      <td>0.018059</td>\n",
       "      <td>0.017443</td>\n",
       "      <td>0.017905</td>\n",
       "    </tr>\n",
       "    <tr>\n",
       "      <th>race</th>\n",
       "      <td>0</td>\n",
       "      <td>0</td>\n",
       "      <td>0</td>\n",
       "      <td>0.000000</td>\n",
       "      <td>0.000000</td>\n",
       "      <td>0.000000</td>\n",
       "    </tr>\n",
       "    <tr>\n",
       "      <th>relationship</th>\n",
       "      <td>0</td>\n",
       "      <td>0</td>\n",
       "      <td>0</td>\n",
       "      <td>0.000000</td>\n",
       "      <td>0.000000</td>\n",
       "      <td>0.000000</td>\n",
       "    </tr>\n",
       "    <tr>\n",
       "      <th>marital_status</th>\n",
       "      <td>0</td>\n",
       "      <td>0</td>\n",
       "      <td>0</td>\n",
       "      <td>0.000000</td>\n",
       "      <td>0.000000</td>\n",
       "      <td>0.000000</td>\n",
       "    </tr>\n",
       "    <tr>\n",
       "      <th>sex</th>\n",
       "      <td>0</td>\n",
       "      <td>0</td>\n",
       "      <td>0</td>\n",
       "      <td>0.000000</td>\n",
       "      <td>0.000000</td>\n",
       "      <td>0.000000</td>\n",
       "    </tr>\n",
       "    <tr>\n",
       "      <th>hours_per_week</th>\n",
       "      <td>0</td>\n",
       "      <td>0</td>\n",
       "      <td>0</td>\n",
       "      <td>0.000000</td>\n",
       "      <td>0.000000</td>\n",
       "      <td>0.000000</td>\n",
       "    </tr>\n",
       "    <tr>\n",
       "      <th>fnlwgt</th>\n",
       "      <td>0</td>\n",
       "      <td>0</td>\n",
       "      <td>0</td>\n",
       "      <td>0.000000</td>\n",
       "      <td>0.000000</td>\n",
       "      <td>0.000000</td>\n",
       "    </tr>\n",
       "    <tr>\n",
       "      <th>flg_train</th>\n",
       "      <td>0</td>\n",
       "      <td>0</td>\n",
       "      <td>0</td>\n",
       "      <td>0.000000</td>\n",
       "      <td>0.000000</td>\n",
       "      <td>0.000000</td>\n",
       "    </tr>\n",
       "    <tr>\n",
       "      <th>education_num</th>\n",
       "      <td>0</td>\n",
       "      <td>0</td>\n",
       "      <td>0</td>\n",
       "      <td>0.000000</td>\n",
       "      <td>0.000000</td>\n",
       "      <td>0.000000</td>\n",
       "    </tr>\n",
       "    <tr>\n",
       "      <th>education</th>\n",
       "      <td>0</td>\n",
       "      <td>0</td>\n",
       "      <td>0</td>\n",
       "      <td>0.000000</td>\n",
       "      <td>0.000000</td>\n",
       "      <td>0.000000</td>\n",
       "    </tr>\n",
       "    <tr>\n",
       "      <th>capital_loss</th>\n",
       "      <td>0</td>\n",
       "      <td>0</td>\n",
       "      <td>0</td>\n",
       "      <td>0.000000</td>\n",
       "      <td>0.000000</td>\n",
       "      <td>0.000000</td>\n",
       "    </tr>\n",
       "    <tr>\n",
       "      <th>capital_gain</th>\n",
       "      <td>0</td>\n",
       "      <td>0</td>\n",
       "      <td>0</td>\n",
       "      <td>0.000000</td>\n",
       "      <td>0.000000</td>\n",
       "      <td>0.000000</td>\n",
       "    </tr>\n",
       "    <tr>\n",
       "      <th>id</th>\n",
       "      <td>0</td>\n",
       "      <td>0</td>\n",
       "      <td>0</td>\n",
       "      <td>0.000000</td>\n",
       "      <td>0.000000</td>\n",
       "      <td>0.000000</td>\n",
       "    </tr>\n",
       "  </tbody>\n",
       "</table>\n",
       "</div>"
      ],
      "text/plain": [
       "                MI_count_train  MI_count_score  MI_count  MI_pct_train  \\\n",
       "age                       1876             606      2482      0.076822   \n",
       "occupation                1386             457      1843      0.056757   \n",
       "workclass                 1382             454      1836      0.056593   \n",
       "native_country             441             142       583      0.018059   \n",
       "race                         0               0         0      0.000000   \n",
       "relationship                 0               0         0      0.000000   \n",
       "marital_status               0               0         0      0.000000   \n",
       "sex                          0               0         0      0.000000   \n",
       "hours_per_week               0               0         0      0.000000   \n",
       "fnlwgt                       0               0         0      0.000000   \n",
       "flg_train                    0               0         0      0.000000   \n",
       "education_num                0               0         0      0.000000   \n",
       "education                    0               0         0      0.000000   \n",
       "capital_loss                 0               0         0      0.000000   \n",
       "capital_gain                 0               0         0      0.000000   \n",
       "id                           0               0         0      0.000000   \n",
       "\n",
       "                MI_pct_score    MI_pct  \n",
       "age                 0.074438  0.076226  \n",
       "occupation          0.056136  0.056601  \n",
       "workclass           0.055767  0.056386  \n",
       "native_country      0.017443  0.017905  \n",
       "race                0.000000  0.000000  \n",
       "relationship        0.000000  0.000000  \n",
       "marital_status      0.000000  0.000000  \n",
       "sex                 0.000000  0.000000  \n",
       "hours_per_week      0.000000  0.000000  \n",
       "fnlwgt              0.000000  0.000000  \n",
       "flg_train           0.000000  0.000000  \n",
       "education_num       0.000000  0.000000  \n",
       "education           0.000000  0.000000  \n",
       "capital_loss        0.000000  0.000000  \n",
       "capital_gain        0.000000  0.000000  \n",
       "id                  0.000000  0.000000  "
      ]
     },
     "execution_count": 22,
     "metadata": {},
     "output_type": "execute_result"
    }
   ],
   "source": [
    "def checkMissing(data_df, flg_train_col, label_col, n_train, n_score):\n",
    "    df1 = data_df[data_df[flg_train_col] == 1]\n",
    "    df2 = data_df[data_df[flg_train_col] == 0]\n",
    "    \n",
    "    mi_df1 = pd.DataFrame(df1.isnull().sum().sort_values(ascending=False), columns=[\"MI_count_train\"])\n",
    "    mi_df2 = pd.DataFrame(df2.isnull().sum().sort_values(ascending=False), columns=[\"MI_count_score\"])\n",
    "    \n",
    "    MI_df = pd.merge(mi_df1, mi_df2, how=\"left\", left_index=True, right_index=True)\n",
    "    MI_df.drop(label_col, axis=0, inplace=True)\n",
    "    MI_df[\"MI_count\"] = MI_df[\"MI_count_train\"] + MI_df[\"MI_count_score\"]\n",
    "    MI_df[\"MI_pct_train\"] =  MI_df[\"MI_count_train\"] / n_train\n",
    "    MI_df[\"MI_pct_score\"] =  MI_df[\"MI_count_score\"] / n_score\n",
    "    MI_df[\"MI_pct\"] = MI_df[\"MI_count\"]/ (n_train + n_score)\n",
    "    return MI_df\n",
    "    \n",
    "missing_df = checkMissing(data, \"flg_train\", label, n_train, n_score)\n",
    "missing_df"
   ]
  },
  {
   "cell_type": "code",
   "execution_count": 23,
   "metadata": {},
   "outputs": [
    {
     "data": {
      "text/plain": [
       "{'age': 0.07622616013021713,\n",
       " 'native_country': 0.0179048555019809,\n",
       " 'occupation': 0.056601455729246644,\n",
       " 'workclass': 0.05638647461687295}"
      ]
     },
     "execution_count": 23,
     "metadata": {},
     "output_type": "execute_result"
    }
   ],
   "source": [
    "missing_dict = missing_df.loc[missing_df[\"MI_pct\"]>0, \"MI_pct\"].to_dict()\n",
    "missing_dict"
   ]
  },
  {
   "cell_type": "code",
   "execution_count": 24,
   "metadata": {},
   "outputs": [],
   "source": [
    "def checkSkewness(data_df, num_feat_list, flg_train_col):\n",
    "    df1 = data_df[data_df[flg_train_col] == 1]\n",
    "    df2 = data_df[data_df[flg_train_col] == 0]\n",
    "\n",
    "    skews1 = list(map(lambda col: df1[col].skew(), num_feat_list))\n",
    "    skews2 = list(map(lambda col: df2[col].skew(), num_feat_list))\n",
    "    skews = list(map(lambda col: data_df[col].skew(), num_feat_list))\n",
    "    \n",
    "    skew_df = pd.DataFrame(data={\"skewness1\":skews1, \"skewness2\":skews2, \"skewness\":skews}, index=num_feat_list).\\\n",
    "        sort_values(\"skewness\", ascending=False)\n",
    "\n",
    "    return skew_df"
   ]
  },
  {
   "cell_type": "code",
   "execution_count": 25,
   "metadata": {},
   "outputs": [
    {
     "data": {
      "text/html": [
       "<div>\n",
       "<style scoped>\n",
       "    .dataframe tbody tr th:only-of-type {\n",
       "        vertical-align: middle;\n",
       "    }\n",
       "\n",
       "    .dataframe tbody tr th {\n",
       "        vertical-align: top;\n",
       "    }\n",
       "\n",
       "    .dataframe thead th {\n",
       "        text-align: right;\n",
       "    }\n",
       "</style>\n",
       "<table border=\"1\" class=\"dataframe\">\n",
       "  <thead>\n",
       "    <tr style=\"text-align: right;\">\n",
       "      <th></th>\n",
       "      <th>skewness1</th>\n",
       "      <th>skewness2</th>\n",
       "      <th>skewness</th>\n",
       "    </tr>\n",
       "  </thead>\n",
       "  <tbody>\n",
       "    <tr>\n",
       "      <th>capital_gain</th>\n",
       "      <td>11.964495</td>\n",
       "      <td>11.922859</td>\n",
       "      <td>11.953848</td>\n",
       "    </tr>\n",
       "    <tr>\n",
       "      <th>capital_loss</th>\n",
       "      <td>4.591186</td>\n",
       "      <td>4.605690</td>\n",
       "      <td>4.594629</td>\n",
       "    </tr>\n",
       "    <tr>\n",
       "      <th>fnlwgt</th>\n",
       "      <td>1.510473</td>\n",
       "      <td>1.237611</td>\n",
       "      <td>1.446980</td>\n",
       "    </tr>\n",
       "    <tr>\n",
       "      <th>age</th>\n",
       "      <td>0.586260</td>\n",
       "      <td>0.630154</td>\n",
       "      <td>0.597355</td>\n",
       "    </tr>\n",
       "    <tr>\n",
       "      <th>hours_per_week</th>\n",
       "      <td>0.222889</td>\n",
       "      <td>0.241989</td>\n",
       "      <td>0.227643</td>\n",
       "    </tr>\n",
       "  </tbody>\n",
       "</table>\n",
       "</div>"
      ],
      "text/plain": [
       "                skewness1  skewness2   skewness\n",
       "capital_gain    11.964495  11.922859  11.953848\n",
       "capital_loss     4.591186   4.605690   4.594629\n",
       "fnlwgt           1.510473   1.237611   1.446980\n",
       "age              0.586260   0.630154   0.597355\n",
       "hours_per_week   0.222889   0.241989   0.227643"
      ]
     },
     "execution_count": 25,
     "metadata": {},
     "output_type": "execute_result"
    }
   ],
   "source": [
    "skew_df = checkSkewness(data, num_features, \"flg_train\")\n",
    "skew_dict = skew_df[\"skewness\"].to_dict()\n",
    "skew_df"
   ]
  },
  {
   "cell_type": "code",
   "execution_count": 26,
   "metadata": {},
   "outputs": [],
   "source": [
    "def checkCatFreq(data_df, col, flg_train_col, n_train, n_score):\n",
    "    df = data_df.copy()\n",
    "    \n",
    "    freq_tb1 = pd.DataFrame( df[df[flg_train_col] == 1].groupby(col).size(), columns=[\"freq1\"] )\n",
    "    freq_tb2 = pd.DataFrame( df[df[flg_train_col] == 0].groupby(col).size(), columns=[\"freq2\"] )\n",
    "    \n",
    "    freq_tb = pd.merge(freq_tb1, freq_tb2, how=\"left\", left_index=True, right_index=True)\n",
    "    n = n_train + n_score\n",
    "    freq_tb[\"total_freq\"] =  freq_tb[\"freq1\"].fillna(0)  +  freq_tb[\"freq2\"].fillna(0)\n",
    "    freq_tb[\"freq1_pct\"] =  freq_tb[\"freq1\"] / n_train\n",
    "    freq_tb[\"freq2_pct\"] =  freq_tb[\"freq2\"] / n_score\n",
    "    freq_tb[\"total_freq_pct\"] =  freq_tb[\"total_freq\"]/n\n",
    "    freq_tb[\"flg_unseen\"] = 0\n",
    "    mask = (freq_tb[\"freq1\"].notnull() & freq_tb[\"freq2\"].isnull())\n",
    "    freq_tb.loc[mask, \"flg_unseen\"] = 1\n",
    "    freq_tb[\"feature\"] = col\n",
    "    freq_tb.sort_values(\"total_freq\", ascending=False, inplace=True)\n",
    "    freq_tb.reset_index(level=0, inplace=True)\n",
    "    freq_tb.rename(columns={col: \"level\"}, inplace=True)\n",
    "    freq_tb[\"freq_rank\"] = freq_tb.index\n",
    "    \n",
    "    return freq_tb[[\"feature\",\"level\",\"freq1\",\"freq2\",\"total_freq\",\"freq1_pct\",\"freq2_pct\",\"total_freq_pct\", \"flg_unseen\", \"freq_rank\"]]"
   ]
  },
  {
   "cell_type": "code",
   "execution_count": 27,
   "metadata": {},
   "outputs": [],
   "source": [
    "catFreq_list = list(map(lambda feat: checkCatFreq(data, feat, \"flg_train\", n_train, n_score), str_features))\n",
    "catFreq = reduce(lambda a, b: a.append(b), catFreq_list)"
   ]
  },
  {
   "cell_type": "code",
   "execution_count": 28,
   "metadata": {},
   "outputs": [
    {
     "data": {
      "text/plain": [
       "['native_country', 'education']"
      ]
     },
     "execution_count": 28,
     "metadata": {},
     "output_type": "execute_result"
    }
   ],
   "source": [
    "highCard_threshold = 15\n",
    "highCard_df = catFreq.groupby(\"feature\").size().sort_values(ascending=False)\n",
    "\n",
    "highCard_feat_list = list(highCard_df[highCard_df>highCard_threshold].index)\n",
    "highCard_feat_list"
   ]
  },
  {
   "cell_type": "markdown",
   "metadata": {},
   "source": [
    "### Variable Screening:\n",
    "* Missing value analysis\n",
    "* Numeric feature screening\n",
    "* Categorical feature screening"
   ]
  },
  {
   "cell_type": "markdown",
   "metadata": {},
   "source": [
    "**Missing Value Analyisis**"
   ]
  },
  {
   "cell_type": "code",
   "execution_count": 29,
   "metadata": {},
   "outputs": [
    {
     "data": {
      "text/plain": [
       "['MI_age', 'MI_occupation', 'MI_workclass', 'MI_native_country']"
      ]
     },
     "execution_count": 29,
     "metadata": {},
     "output_type": "execute_result"
    }
   ],
   "source": [
    "MI_preffix = \"MI_\"\n",
    "MI_features = [MI_preffix+feature for feature in missing_dict.keys()]\n",
    "MI_features"
   ]
  },
  {
   "cell_type": "code",
   "execution_count": 30,
   "metadata": {},
   "outputs": [],
   "source": [
    "def screenMissing(data_df, missing_dict, MI_preffix):\n",
    "    feat_list = list(missing_dict.keys())\n",
    "    df = data_df.copy()\n",
    "    \n",
    "    for col in feat_list:\n",
    "        preffix_col = MI_preffix + str(col)\n",
    "        df[preffix_col] = 0\n",
    "        mask = df[col].isnull()\n",
    "        df.loc[mask, preffix_col] = 1\n",
    "        \n",
    "        schema = data_df.dtypes\n",
    "        if ( schema[col] == np.dtype(\"O\") ):\n",
    "            df[col].fillna(\"missing\", inplace=True)\n",
    "        else:\n",
    "            median = df[col].median()\n",
    "            df[col].fillna(median, inplace=True)\n",
    "            \n",
    "    return df"
   ]
  },
  {
   "cell_type": "code",
   "execution_count": 31,
   "metadata": {},
   "outputs": [
    {
     "data": {
      "text/plain": [
       "MI_age               0.076226\n",
       "MI_occupation        0.056601\n",
       "MI_workclass         0.056386\n",
       "MI_native_country    0.017905\n",
       "dtype: float64"
      ]
     },
     "execution_count": 31,
     "metadata": {},
     "output_type": "execute_result"
    }
   ],
   "source": [
    "data1 = screenMissing(data, missing_dict, \"MI_\")\n",
    "data1[MI_features].sum()/n_data"
   ]
  },
  {
   "cell_type": "code",
   "execution_count": 32,
   "metadata": {},
   "outputs": [
    {
     "data": {
      "text/html": [
       "<div>\n",
       "<style scoped>\n",
       "    .dataframe tbody tr th:only-of-type {\n",
       "        vertical-align: middle;\n",
       "    }\n",
       "\n",
       "    .dataframe tbody tr th {\n",
       "        vertical-align: top;\n",
       "    }\n",
       "\n",
       "    .dataframe thead th {\n",
       "        text-align: right;\n",
       "    }\n",
       "</style>\n",
       "<table border=\"1\" class=\"dataframe\">\n",
       "  <thead>\n",
       "    <tr style=\"text-align: right;\">\n",
       "      <th>incGE50k</th>\n",
       "      <th>0.0</th>\n",
       "      <th>1.0</th>\n",
       "    </tr>\n",
       "    <tr>\n",
       "      <th>MI_age</th>\n",
       "      <th></th>\n",
       "      <th></th>\n",
       "    </tr>\n",
       "  </thead>\n",
       "  <tbody>\n",
       "    <tr>\n",
       "      <th>0</th>\n",
       "      <td>0.761001</td>\n",
       "      <td>0.238999</td>\n",
       "    </tr>\n",
       "    <tr>\n",
       "      <th>1</th>\n",
       "      <td>0.737740</td>\n",
       "      <td>0.262260</td>\n",
       "    </tr>\n",
       "  </tbody>\n",
       "</table>\n",
       "</div>"
      ],
      "text/plain": [
       "incGE50k       0.0       1.0\n",
       "MI_age                      \n",
       "0         0.761001  0.238999\n",
       "1         0.737740  0.262260"
      ]
     },
     "execution_count": 32,
     "metadata": {},
     "output_type": "execute_result"
    }
   ],
   "source": [
    "pd.crosstab(data1.MI_age, data1[label], normalize=\"index\")"
   ]
  },
  {
   "cell_type": "code",
   "execution_count": 33,
   "metadata": {},
   "outputs": [
    {
     "data": {
      "text/html": [
       "<div>\n",
       "<style scoped>\n",
       "    .dataframe tbody tr th:only-of-type {\n",
       "        vertical-align: middle;\n",
       "    }\n",
       "\n",
       "    .dataframe tbody tr th {\n",
       "        vertical-align: top;\n",
       "    }\n",
       "\n",
       "    .dataframe thead th {\n",
       "        text-align: right;\n",
       "    }\n",
       "</style>\n",
       "<table border=\"1\" class=\"dataframe\">\n",
       "  <thead>\n",
       "    <tr style=\"text-align: right;\">\n",
       "      <th>incGE50k</th>\n",
       "      <th>0.0</th>\n",
       "      <th>1.0</th>\n",
       "    </tr>\n",
       "    <tr>\n",
       "      <th>MI_occupation</th>\n",
       "      <th></th>\n",
       "      <th></th>\n",
       "    </tr>\n",
       "  </thead>\n",
       "  <tbody>\n",
       "    <tr>\n",
       "      <th>0</th>\n",
       "      <td>0.750890</td>\n",
       "      <td>0.249110</td>\n",
       "    </tr>\n",
       "    <tr>\n",
       "      <th>1</th>\n",
       "      <td>0.897547</td>\n",
       "      <td>0.102453</td>\n",
       "    </tr>\n",
       "  </tbody>\n",
       "</table>\n",
       "</div>"
      ],
      "text/plain": [
       "incGE50k            0.0       1.0\n",
       "MI_occupation                    \n",
       "0              0.750890  0.249110\n",
       "1              0.897547  0.102453"
      ]
     },
     "execution_count": 33,
     "metadata": {},
     "output_type": "execute_result"
    }
   ],
   "source": [
    "pd.crosstab(data1.MI_occupation, data1[label], normalize=\"index\")"
   ]
  },
  {
   "cell_type": "code",
   "execution_count": 34,
   "metadata": {},
   "outputs": [
    {
     "data": {
      "text/html": [
       "<div>\n",
       "<style scoped>\n",
       "    .dataframe tbody tr th:only-of-type {\n",
       "        vertical-align: middle;\n",
       "    }\n",
       "\n",
       "    .dataframe tbody tr th {\n",
       "        vertical-align: top;\n",
       "    }\n",
       "\n",
       "    .dataframe thead th {\n",
       "        text-align: right;\n",
       "    }\n",
       "</style>\n",
       "<table border=\"1\" class=\"dataframe\">\n",
       "  <thead>\n",
       "    <tr style=\"text-align: right;\">\n",
       "      <th>incGE50k</th>\n",
       "      <th>0.0</th>\n",
       "      <th>1.0</th>\n",
       "    </tr>\n",
       "    <tr>\n",
       "      <th>MI_workclass</th>\n",
       "      <th></th>\n",
       "      <th></th>\n",
       "    </tr>\n",
       "  </thead>\n",
       "  <tbody>\n",
       "    <tr>\n",
       "      <th>0</th>\n",
       "      <td>0.750933</td>\n",
       "      <td>0.249067</td>\n",
       "    </tr>\n",
       "    <tr>\n",
       "      <th>1</th>\n",
       "      <td>0.897250</td>\n",
       "      <td>0.102750</td>\n",
       "    </tr>\n",
       "  </tbody>\n",
       "</table>\n",
       "</div>"
      ],
      "text/plain": [
       "incGE50k           0.0       1.0\n",
       "MI_workclass                    \n",
       "0             0.750933  0.249067\n",
       "1             0.897250  0.102750"
      ]
     },
     "execution_count": 34,
     "metadata": {},
     "output_type": "execute_result"
    }
   ],
   "source": [
    "pd.crosstab(data1.MI_workclass, data1[label], normalize=\"index\")"
   ]
  },
  {
   "cell_type": "code",
   "execution_count": 35,
   "metadata": {},
   "outputs": [
    {
     "data": {
      "text/html": [
       "<div>\n",
       "<style scoped>\n",
       "    .dataframe tbody tr th:only-of-type {\n",
       "        vertical-align: middle;\n",
       "    }\n",
       "\n",
       "    .dataframe tbody tr th {\n",
       "        vertical-align: top;\n",
       "    }\n",
       "\n",
       "    .dataframe thead th {\n",
       "        text-align: right;\n",
       "    }\n",
       "</style>\n",
       "<table border=\"1\" class=\"dataframe\">\n",
       "  <thead>\n",
       "    <tr style=\"text-align: right;\">\n",
       "      <th>incGE50k</th>\n",
       "      <th>0.0</th>\n",
       "      <th>1.0</th>\n",
       "    </tr>\n",
       "    <tr>\n",
       "      <th>MI_native_country</th>\n",
       "      <th></th>\n",
       "      <th></th>\n",
       "    </tr>\n",
       "  </thead>\n",
       "  <tbody>\n",
       "    <tr>\n",
       "      <th>0</th>\n",
       "      <td>0.759540</td>\n",
       "      <td>0.240460</td>\n",
       "    </tr>\n",
       "    <tr>\n",
       "      <th>1</th>\n",
       "      <td>0.741497</td>\n",
       "      <td>0.258503</td>\n",
       "    </tr>\n",
       "  </tbody>\n",
       "</table>\n",
       "</div>"
      ],
      "text/plain": [
       "incGE50k                0.0       1.0\n",
       "MI_native_country                    \n",
       "0                  0.759540  0.240460\n",
       "1                  0.741497  0.258503"
      ]
     },
     "execution_count": 35,
     "metadata": {},
     "output_type": "execute_result"
    }
   ],
   "source": [
    "pd.crosstab(data1.MI_native_country, data1[label], normalize=\"index\")"
   ]
  },
  {
   "cell_type": "code",
   "execution_count": 36,
   "metadata": {},
   "outputs": [],
   "source": [
    "def screenOutliers(data_df, data_scaled_df, skew_dict, OI_preffix):\n",
    "    feat_list = list(skew_dict.keys())\n",
    "    feat_preffix_list = list(map(lambda col: OI_preffix + str(col), feat_list))\n",
    "    df = data_df.copy()\n",
    "    \n",
    "    for col in feat_list:\n",
    "        preffix_col = OI_preffix + str(col)\n",
    "        df[preffix_col] = 0\n",
    "        if skew_dict[col]<3:\n",
    "            mask_upper = (data_scaled_df[col]>3)\n",
    "            mask_lower = (data_scaled_df[col]<-3)\n",
    "        else:\n",
    "            mask_upper = (data_scaled_df[col]>5)\n",
    "            mask_lower = (data_scaled_df[col]<-5)\n",
    "            \n",
    "        df.loc[mask_upper, preffix_col] = 1\n",
    "        df.loc[mask_lower, preffix_col] = -1\n",
    "        \n",
    "    screen_df = pd.DataFrame(df[feat_preffix_list].sum(), columns=[\"OI_count\"])\n",
    "    screen_df[\"OI_pct\"] = screen_df[\"OI_count\"] / n_data\n",
    "    rename_dict=dict(zip(feat_preffix_list, feat_list))\n",
    "    screen_df.rename(rename_dict, inplace=True)\n",
    "        \n",
    "    return screen_df.sort_values(by=\"OI_pct\", ascending=False), df"
   ]
  },
  {
   "cell_type": "code",
   "execution_count": 37,
   "metadata": {},
   "outputs": [
    {
     "data": {
      "text/html": [
       "<div>\n",
       "<style scoped>\n",
       "    .dataframe tbody tr th:only-of-type {\n",
       "        vertical-align: middle;\n",
       "    }\n",
       "\n",
       "    .dataframe tbody tr th {\n",
       "        vertical-align: top;\n",
       "    }\n",
       "\n",
       "    .dataframe thead th {\n",
       "        text-align: right;\n",
       "    }\n",
       "</style>\n",
       "<table border=\"1\" class=\"dataframe\">\n",
       "  <thead>\n",
       "    <tr style=\"text-align: right;\">\n",
       "      <th></th>\n",
       "      <th>OI_count</th>\n",
       "      <th>OI_pct</th>\n",
       "    </tr>\n",
       "  </thead>\n",
       "  <tbody>\n",
       "    <tr>\n",
       "      <th>fnlwgt</th>\n",
       "      <td>347</td>\n",
       "      <td>0.010657</td>\n",
       "    </tr>\n",
       "    <tr>\n",
       "      <th>hours_per_week</th>\n",
       "      <td>258</td>\n",
       "      <td>0.007924</td>\n",
       "    </tr>\n",
       "    <tr>\n",
       "      <th>capital_loss</th>\n",
       "      <td>243</td>\n",
       "      <td>0.007463</td>\n",
       "    </tr>\n",
       "    <tr>\n",
       "      <th>capital_gain</th>\n",
       "      <td>161</td>\n",
       "      <td>0.004945</td>\n",
       "    </tr>\n",
       "    <tr>\n",
       "      <th>age</th>\n",
       "      <td>156</td>\n",
       "      <td>0.004791</td>\n",
       "    </tr>\n",
       "  </tbody>\n",
       "</table>\n",
       "</div>"
      ],
      "text/plain": [
       "                OI_count    OI_pct\n",
       "fnlwgt               347  0.010657\n",
       "hours_per_week       258  0.007924\n",
       "capital_loss         243  0.007463\n",
       "capital_gain         161  0.004945\n",
       "age                  156  0.004791"
      ]
     },
     "execution_count": 37,
     "metadata": {},
     "output_type": "execute_result"
    }
   ],
   "source": [
    "OI_preffix = \"OI_\"\n",
    "\n",
    "scaled_features = StandardScaler().fit_transform(data1[num_features])\n",
    "scaled_idx = data1.index\n",
    "data1_scaled = pd.DataFrame(scaled_features, index=scaled_idx, columns=num_features)\n",
    "\n",
    "outliers_df, data2 = screenOutliers(data1, data1_scaled, skew_dict, OI_preffix)\n",
    "outliers_df"
   ]
  },
  {
   "cell_type": "code",
   "execution_count": 38,
   "metadata": {},
   "outputs": [
    {
     "data": {
      "text/html": [
       "<div>\n",
       "<style scoped>\n",
       "    .dataframe tbody tr th:only-of-type {\n",
       "        vertical-align: middle;\n",
       "    }\n",
       "\n",
       "    .dataframe tbody tr th {\n",
       "        vertical-align: top;\n",
       "    }\n",
       "\n",
       "    .dataframe thead th {\n",
       "        text-align: right;\n",
       "    }\n",
       "</style>\n",
       "<table border=\"1\" class=\"dataframe\">\n",
       "  <thead>\n",
       "    <tr style=\"text-align: right;\">\n",
       "      <th>incGE50k</th>\n",
       "      <th>0.0</th>\n",
       "      <th>1.0</th>\n",
       "    </tr>\n",
       "    <tr>\n",
       "      <th>OI_capital_loss</th>\n",
       "      <th></th>\n",
       "      <th></th>\n",
       "    </tr>\n",
       "  </thead>\n",
       "  <tbody>\n",
       "    <tr>\n",
       "      <th>0</th>\n",
       "      <td>0.761698</td>\n",
       "      <td>0.238302</td>\n",
       "    </tr>\n",
       "    <tr>\n",
       "      <th>1</th>\n",
       "      <td>0.435484</td>\n",
       "      <td>0.564516</td>\n",
       "    </tr>\n",
       "  </tbody>\n",
       "</table>\n",
       "</div>"
      ],
      "text/plain": [
       "incGE50k              0.0       1.0\n",
       "OI_capital_loss                    \n",
       "0                0.761698  0.238302\n",
       "1                0.435484  0.564516"
      ]
     },
     "execution_count": 38,
     "metadata": {},
     "output_type": "execute_result"
    }
   ],
   "source": [
    "pd.crosstab(data2.OI_capital_loss, data2[label], normalize=\"index\")"
   ]
  },
  {
   "cell_type": "code",
   "execution_count": 39,
   "metadata": {},
   "outputs": [
    {
     "data": {
      "text/html": [
       "<div>\n",
       "<style scoped>\n",
       "    .dataframe tbody tr th:only-of-type {\n",
       "        vertical-align: middle;\n",
       "    }\n",
       "\n",
       "    .dataframe tbody tr th {\n",
       "        vertical-align: top;\n",
       "    }\n",
       "\n",
       "    .dataframe thead th {\n",
       "        text-align: right;\n",
       "    }\n",
       "</style>\n",
       "<table border=\"1\" class=\"dataframe\">\n",
       "  <thead>\n",
       "    <tr style=\"text-align: right;\">\n",
       "      <th>incGE50k</th>\n",
       "      <th>0.0</th>\n",
       "      <th>1.0</th>\n",
       "    </tr>\n",
       "    <tr>\n",
       "      <th>OI_capital_gain</th>\n",
       "      <th></th>\n",
       "      <th></th>\n",
       "    </tr>\n",
       "  </thead>\n",
       "  <tbody>\n",
       "    <tr>\n",
       "      <th>0</th>\n",
       "      <td>0.762890</td>\n",
       "      <td>0.237110</td>\n",
       "    </tr>\n",
       "    <tr>\n",
       "      <th>1</th>\n",
       "      <td>0.008403</td>\n",
       "      <td>0.991597</td>\n",
       "    </tr>\n",
       "  </tbody>\n",
       "</table>\n",
       "</div>"
      ],
      "text/plain": [
       "incGE50k              0.0       1.0\n",
       "OI_capital_gain                    \n",
       "0                0.762890  0.237110\n",
       "1                0.008403  0.991597"
      ]
     },
     "execution_count": 39,
     "metadata": {},
     "output_type": "execute_result"
    }
   ],
   "source": [
    "pd.crosstab(data2.OI_capital_gain, data2[label], normalize=\"index\")"
   ]
  },
  {
   "cell_type": "code",
   "execution_count": 40,
   "metadata": {},
   "outputs": [
    {
     "data": {
      "text/html": [
       "<div>\n",
       "<style scoped>\n",
       "    .dataframe tbody tr th:only-of-type {\n",
       "        vertical-align: middle;\n",
       "    }\n",
       "\n",
       "    .dataframe tbody tr th {\n",
       "        vertical-align: top;\n",
       "    }\n",
       "\n",
       "    .dataframe thead th {\n",
       "        text-align: right;\n",
       "    }\n",
       "</style>\n",
       "<table border=\"1\" class=\"dataframe\">\n",
       "  <thead>\n",
       "    <tr style=\"text-align: right;\">\n",
       "      <th>incGE50k</th>\n",
       "      <th>0.0</th>\n",
       "      <th>1.0</th>\n",
       "    </tr>\n",
       "    <tr>\n",
       "      <th>OI_hours_per_week</th>\n",
       "      <th></th>\n",
       "      <th></th>\n",
       "    </tr>\n",
       "  </thead>\n",
       "  <tbody>\n",
       "    <tr>\n",
       "      <th>-1</th>\n",
       "      <td>0.863636</td>\n",
       "      <td>0.136364</td>\n",
       "    </tr>\n",
       "    <tr>\n",
       "      <th>0</th>\n",
       "      <td>0.760118</td>\n",
       "      <td>0.239882</td>\n",
       "    </tr>\n",
       "    <tr>\n",
       "      <th>1</th>\n",
       "      <td>0.650190</td>\n",
       "      <td>0.349810</td>\n",
       "    </tr>\n",
       "  </tbody>\n",
       "</table>\n",
       "</div>"
      ],
      "text/plain": [
       "incGE50k                0.0       1.0\n",
       "OI_hours_per_week                    \n",
       "-1                 0.863636  0.136364\n",
       " 0                 0.760118  0.239882\n",
       " 1                 0.650190  0.349810"
      ]
     },
     "execution_count": 40,
     "metadata": {},
     "output_type": "execute_result"
    }
   ],
   "source": [
    "pd.crosstab(data2.OI_hours_per_week, data2[label], normalize=\"index\")"
   ]
  },
  {
   "cell_type": "code",
   "execution_count": 41,
   "metadata": {},
   "outputs": [
    {
     "data": {
      "text/html": [
       "<div>\n",
       "<style scoped>\n",
       "    .dataframe tbody tr th:only-of-type {\n",
       "        vertical-align: middle;\n",
       "    }\n",
       "\n",
       "    .dataframe tbody tr th {\n",
       "        vertical-align: top;\n",
       "    }\n",
       "\n",
       "    .dataframe thead th {\n",
       "        text-align: right;\n",
       "    }\n",
       "</style>\n",
       "<table border=\"1\" class=\"dataframe\">\n",
       "  <thead>\n",
       "    <tr style=\"text-align: right;\">\n",
       "      <th>incGE50k</th>\n",
       "      <th>0.0</th>\n",
       "      <th>1.0</th>\n",
       "    </tr>\n",
       "    <tr>\n",
       "      <th>OI_fnlwgt</th>\n",
       "      <th></th>\n",
       "      <th></th>\n",
       "    </tr>\n",
       "  </thead>\n",
       "  <tbody>\n",
       "    <tr>\n",
       "      <th>0</th>\n",
       "      <td>0.758988</td>\n",
       "      <td>0.241012</td>\n",
       "    </tr>\n",
       "    <tr>\n",
       "      <th>1</th>\n",
       "      <td>0.778986</td>\n",
       "      <td>0.221014</td>\n",
       "    </tr>\n",
       "  </tbody>\n",
       "</table>\n",
       "</div>"
      ],
      "text/plain": [
       "incGE50k        0.0       1.0\n",
       "OI_fnlwgt                    \n",
       "0          0.758988  0.241012\n",
       "1          0.778986  0.221014"
      ]
     },
     "execution_count": 41,
     "metadata": {},
     "output_type": "execute_result"
    }
   ],
   "source": [
    "pd.crosstab(data2.OI_fnlwgt, data2[label], normalize=\"index\")"
   ]
  },
  {
   "cell_type": "code",
   "execution_count": 42,
   "metadata": {},
   "outputs": [
    {
     "data": {
      "text/html": [
       "<div>\n",
       "<style scoped>\n",
       "    .dataframe tbody tr th:only-of-type {\n",
       "        vertical-align: middle;\n",
       "    }\n",
       "\n",
       "    .dataframe tbody tr th {\n",
       "        vertical-align: top;\n",
       "    }\n",
       "\n",
       "    .dataframe thead th {\n",
       "        text-align: right;\n",
       "    }\n",
       "</style>\n",
       "<table border=\"1\" class=\"dataframe\">\n",
       "  <thead>\n",
       "    <tr style=\"text-align: right;\">\n",
       "      <th>incGE50k</th>\n",
       "      <th>0.0</th>\n",
       "      <th>1.0</th>\n",
       "    </tr>\n",
       "    <tr>\n",
       "      <th>OI_age</th>\n",
       "      <th></th>\n",
       "      <th></th>\n",
       "    </tr>\n",
       "  </thead>\n",
       "  <tbody>\n",
       "    <tr>\n",
       "      <th>0</th>\n",
       "      <td>0.758947</td>\n",
       "      <td>0.241053</td>\n",
       "    </tr>\n",
       "    <tr>\n",
       "      <th>1</th>\n",
       "      <td>0.818182</td>\n",
       "      <td>0.181818</td>\n",
       "    </tr>\n",
       "  </tbody>\n",
       "</table>\n",
       "</div>"
      ],
      "text/plain": [
       "incGE50k       0.0       1.0\n",
       "OI_age                      \n",
       "0         0.758947  0.241053\n",
       "1         0.818182  0.181818"
      ]
     },
     "execution_count": 42,
     "metadata": {},
     "output_type": "execute_result"
    }
   ],
   "source": [
    "pd.crosstab(data2.OI_age, data2[label], normalize=\"index\")"
   ]
  },
  {
   "cell_type": "code",
   "execution_count": 43,
   "metadata": {},
   "outputs": [],
   "source": [
    "def screenLowFreq(data_df, highCard_list):\n",
    "    df = data2.copy()\n",
    "    lowFreqAnalysis_df_list = []\n",
    "    for col in highCard_list:\n",
    "        df_grp = df.groupby(col)[label].agg([np.size, np.sum])\n",
    "        df_grp = df_grp.reset_index().rename(columns={col: \"levels\"})\n",
    "        df_grp[\"n1\"] = df_grp[\"sum\"]\n",
    "        df_grp[\"n0\"] = df_grp[\"size\"] - df_grp[\"sum\"]\n",
    "        df_grp[\"min_cell_value\"] = df_grp[[\"n1\", \"n0\"]].apply(lambda x: np.min(x), axis=1)\n",
    "        df_grp[\"new_levels\"] = df_grp[[\"levels\",\"min_cell_value\"]].apply(lambda x: x[0] if x[1]>5.0 else \"U\", axis=1)\n",
    "        \n",
    "        df_grp[\"feature\"] = col\n",
    "        \n",
    "        lowFreqAnalysis_df_list = lowFreqAnalysis_df_list + [df_grp]\n",
    "        \n",
    "        n_lowFreqLevels = len(df_grp[df_grp[\"new_levels\"] == \"U\"])\n",
    "        if (n_lowFreqLevels>0):\n",
    "            replacement_dict = df_grp.set_index(\"levels\")[\"new_levels\"].to_dict()\n",
    "            df[col].replace(replacement_dict, inplace=True)\n",
    "            \n",
    "    lowFreqAnalysis_df = pd.concat(lowFreqAnalysis_df_list, axis=0)\n",
    "    \n",
    "    return df, lowFreqAnalysis_df[[\"feature\", \"levels\", \"new_levels\", \"min_cell_value\", \"n1\", \"n0\"]]"
   ]
  },
  {
   "cell_type": "code",
   "execution_count": 44,
   "metadata": {},
   "outputs": [],
   "source": [
    "data3, data3_lowFreqAnalysis = screenLowFreq(data2, highCard_feat_list)"
   ]
  },
  {
   "cell_type": "code",
   "execution_count": 45,
   "metadata": {},
   "outputs": [
    {
     "data": {
      "text/html": [
       "<div>\n",
       "<style scoped>\n",
       "    .dataframe tbody tr th:only-of-type {\n",
       "        vertical-align: middle;\n",
       "    }\n",
       "\n",
       "    .dataframe tbody tr th {\n",
       "        vertical-align: top;\n",
       "    }\n",
       "\n",
       "    .dataframe thead th {\n",
       "        text-align: right;\n",
       "    }\n",
       "</style>\n",
       "<table border=\"1\" class=\"dataframe\">\n",
       "  <thead>\n",
       "    <tr style=\"text-align: right;\">\n",
       "      <th></th>\n",
       "      <th>feature</th>\n",
       "      <th>levels</th>\n",
       "      <th>new_levels</th>\n",
       "      <th>min_cell_value</th>\n",
       "      <th>n1</th>\n",
       "      <th>n0</th>\n",
       "    </tr>\n",
       "  </thead>\n",
       "  <tbody>\n",
       "    <tr>\n",
       "      <th>0</th>\n",
       "      <td>native_country</td>\n",
       "      <td>Cambodia</td>\n",
       "      <td>Cambodia</td>\n",
       "      <td>7.0</td>\n",
       "      <td>7.0</td>\n",
       "      <td>12.0</td>\n",
       "    </tr>\n",
       "    <tr>\n",
       "      <th>1</th>\n",
       "      <td>native_country</td>\n",
       "      <td>Canada</td>\n",
       "      <td>Canada</td>\n",
       "      <td>30.0</td>\n",
       "      <td>30.0</td>\n",
       "      <td>91.0</td>\n",
       "    </tr>\n",
       "    <tr>\n",
       "      <th>2</th>\n",
       "      <td>native_country</td>\n",
       "      <td>China</td>\n",
       "      <td>China</td>\n",
       "      <td>18.0</td>\n",
       "      <td>18.0</td>\n",
       "      <td>57.0</td>\n",
       "    </tr>\n",
       "    <tr>\n",
       "      <th>3</th>\n",
       "      <td>native_country</td>\n",
       "      <td>Columbia</td>\n",
       "      <td>U</td>\n",
       "      <td>2.0</td>\n",
       "      <td>2.0</td>\n",
       "      <td>57.0</td>\n",
       "    </tr>\n",
       "    <tr>\n",
       "      <th>4</th>\n",
       "      <td>native_country</td>\n",
       "      <td>Cuba</td>\n",
       "      <td>Cuba</td>\n",
       "      <td>19.0</td>\n",
       "      <td>19.0</td>\n",
       "      <td>76.0</td>\n",
       "    </tr>\n",
       "  </tbody>\n",
       "</table>\n",
       "</div>"
      ],
      "text/plain": [
       "          feature    levels new_levels  min_cell_value    n1    n0\n",
       "0  native_country  Cambodia   Cambodia             7.0   7.0  12.0\n",
       "1  native_country    Canada     Canada            30.0  30.0  91.0\n",
       "2  native_country     China      China            18.0  18.0  57.0\n",
       "3  native_country  Columbia          U             2.0   2.0  57.0\n",
       "4  native_country      Cuba       Cuba            19.0  19.0  76.0"
      ]
     },
     "execution_count": 45,
     "metadata": {},
     "output_type": "execute_result"
    }
   ],
   "source": [
    "data3_lowFreqAnalysis[:5]"
   ]
  },
  {
   "cell_type": "code",
   "execution_count": 46,
   "metadata": {},
   "outputs": [
    {
     "data": {
      "text/plain": [
       "array(['United-States', 'Mexico', 'Greece', 'U', 'missing', 'Philippines',\n",
       "       'Canada', 'Puerto-Rico', 'South', 'China', 'Poland', 'Iran',\n",
       "       'England', 'El-Salvador', 'Cambodia', 'Cuba', 'Germany', 'India',\n",
       "       'Italy', 'Jamaica', 'Japan', 'France', 'Yugoslavia', 'Taiwan'],\n",
       "      dtype=object)"
      ]
     },
     "execution_count": 46,
     "metadata": {},
     "output_type": "execute_result"
    }
   ],
   "source": [
    "data3[\"native_country\"].unique()"
   ]
  },
  {
   "cell_type": "markdown",
   "metadata": {},
   "source": [
    "## Feature Engineering"
   ]
  },
  {
   "cell_type": "code",
   "execution_count": 47,
   "metadata": {},
   "outputs": [
    {
     "name": "stderr",
     "output_type": "stream",
     "text": [
      "C:\\Anaconda3\\lib\\site-packages\\scipy\\stats\\stats.py:1713: FutureWarning: Using a non-tuple sequence for multidimensional indexing is deprecated; use `arr[tuple(seq)]` instead of `arr[seq]`. In the future this will be interpreted as an array index, `arr[np.array(seq)]`, which will result either in an error or a different result.\n",
      "  return np.add.reduce(sorted[indexer] * weights, axis=axis) / sumval\n"
     ]
    },
    {
     "data": {
      "text/plain": [
       "Text(0.5,1,'capital_gain distribution')"
      ]
     },
     "execution_count": 47,
     "metadata": {},
     "output_type": "execute_result"
    },
    {
     "data": {
      "image/png": "[encoded data removed]",
      "text/plain": [
       "<Figure size 432x288 with 1 Axes>"
      ]
     },
     "metadata": {},
     "output_type": "display_data"
    }
   ],
   "source": [
    "ax = sns.distplot(data3.loc[(data3[label]==1), \"capital_gain\"], label=\"label=1\", bins=100)\n",
    "sns.distplot(data3.loc[(data3[label]==0), \"capital_gain\"], label=\"label=0\", bins=100)\n",
    "ax.set_title(\"capital_gain distribution\")"
   ]
  },
  {
   "cell_type": "code",
   "execution_count": 48,
   "metadata": {},
   "outputs": [
    {
     "data": {
      "text/plain": [
       "119"
      ]
     },
     "execution_count": 48,
     "metadata": {},
     "output_type": "execute_result"
    }
   ],
   "source": [
    "len(data3[\"capital_gain\"].unique())"
   ]
  },
  {
   "cell_type": "code",
   "execution_count": 49,
   "metadata": {},
   "outputs": [
    {
     "name": "stderr",
     "output_type": "stream",
     "text": [
      "C:\\Anaconda3\\lib\\site-packages\\scipy\\stats\\stats.py:1713: FutureWarning: Using a non-tuple sequence for multidimensional indexing is deprecated; use `arr[tuple(seq)]` instead of `arr[seq]`. In the future this will be interpreted as an array index, `arr[np.array(seq)]`, which will result either in an error or a different result.\n",
      "  return np.add.reduce(sorted[indexer] * weights, axis=axis) / sumval\n"
     ]
    },
    {
     "data": {
      "text/plain": [
       "Text(0.5,1,'capital_gain distribution')"
      ]
     },
     "execution_count": 49,
     "metadata": {},
     "output_type": "execute_result"
    },
    {
     "data": {
      "image/png": "[encoded data removed]",
      "text/plain": [
       "<Figure size 432x288 with 1 Axes>"
      ]
     },
     "metadata": {},
     "output_type": "display_data"
    }
   ],
   "source": [
    "mask1 = (data3[\"capital_gain\"]>0.0) & (data3[label]==1)\n",
    "mask0 = (data3[\"capital_gain\"]>0.0) & (data3[label]==0)\n",
    "ax = sns.distplot(data3.loc[mask1, \"capital_gain\"], bins=100, label=\"label=1\")\n",
    "sns.distplot(data3.loc[mask0, \"capital_gain\"], bins=100, label=\"label=0\")\n",
    "ax.set_title(\"capital_gain distribution\")"
   ]
  },
  {
   "cell_type": "code",
   "execution_count": 50,
   "metadata": {},
   "outputs": [
    {
     "data": {
      "text/html": [
       "<div>\n",
       "<style scoped>\n",
       "    .dataframe tbody tr th:only-of-type {\n",
       "        vertical-align: middle;\n",
       "    }\n",
       "\n",
       "    .dataframe tbody tr th {\n",
       "        vertical-align: top;\n",
       "    }\n",
       "\n",
       "    .dataframe thead th {\n",
       "        text-align: right;\n",
       "    }\n",
       "</style>\n",
       "<table border=\"1\" class=\"dataframe\">\n",
       "  <thead>\n",
       "    <tr style=\"text-align: right;\">\n",
       "      <th></th>\n",
       "      <th>size</th>\n",
       "      <th>mean</th>\n",
       "    </tr>\n",
       "    <tr>\n",
       "      <th>capital_gain_bins</th>\n",
       "      <th></th>\n",
       "      <th></th>\n",
       "    </tr>\n",
       "  </thead>\n",
       "  <tbody>\n",
       "    <tr>\n",
       "      <th>(-inf, 0.0]</th>\n",
       "      <td>29849.0</td>\n",
       "      <td>0.205848</td>\n",
       "    </tr>\n",
       "    <tr>\n",
       "      <th>(0.0, 20000.0]</th>\n",
       "      <td>2459.0</td>\n",
       "      <td>0.585169</td>\n",
       "    </tr>\n",
       "    <tr>\n",
       "      <th>(20000.0, inf]</th>\n",
       "      <td>253.0</td>\n",
       "      <td>0.968912</td>\n",
       "    </tr>\n",
       "  </tbody>\n",
       "</table>\n",
       "</div>"
      ],
      "text/plain": [
       "                      size      mean\n",
       "capital_gain_bins                   \n",
       "(-inf, 0.0]        29849.0  0.205848\n",
       "(0.0, 20000.0]      2459.0  0.585169\n",
       "(20000.0, inf]       253.0  0.968912"
      ]
     },
     "execution_count": 50,
     "metadata": {},
     "output_type": "execute_result"
    }
   ],
   "source": [
    "data3[\"capital_gain_bins\"] = pd.cut(data3[\"capital_gain\"], [np.NINF, 0.0, 20000, np.inf])\n",
    "data3.groupby(\"capital_gain_bins\")[label].agg([np.size, np.mean])"
   ]
  },
  {
   "cell_type": "code",
   "execution_count": 51,
   "metadata": {},
   "outputs": [
    {
     "name": "stderr",
     "output_type": "stream",
     "text": [
      "C:\\Anaconda3\\lib\\site-packages\\scipy\\stats\\stats.py:1713: FutureWarning: Using a non-tuple sequence for multidimensional indexing is deprecated; use `arr[tuple(seq)]` instead of `arr[seq]`. In the future this will be interpreted as an array index, `arr[np.array(seq)]`, which will result either in an error or a different result.\n",
      "  return np.add.reduce(sorted[indexer] * weights, axis=axis) / sumval\n"
     ]
    },
    {
     "data": {
      "text/plain": [
       "Text(0.5,1,'capital_loss distribution')"
      ]
     },
     "execution_count": 51,
     "metadata": {},
     "output_type": "execute_result"
    },
    {
     "data": {
      "image/png": "[encoded data removed]",
      "text/plain": [
       "<Figure size 432x288 with 1 Axes>"
      ]
     },
     "metadata": {},
     "output_type": "display_data"
    }
   ],
   "source": [
    "ax = sns.distplot(data3.loc[(data3[label]==1), \"capital_loss\"], label=\"label=1\", bins=100)\n",
    "sns.distplot(data3.loc[(data3[label]==0), \"capital_loss\"], label=\"label=0\", bins=100)\n",
    "ax.set_title(\"capital_loss distribution\")"
   ]
  },
  {
   "cell_type": "code",
   "execution_count": 52,
   "metadata": {},
   "outputs": [
    {
     "data": {
      "text/plain": [
       "92"
      ]
     },
     "execution_count": 52,
     "metadata": {},
     "output_type": "execute_result"
    }
   ],
   "source": [
    "len(data3[\"capital_loss\"].unique())"
   ]
  },
  {
   "cell_type": "code",
   "execution_count": 53,
   "metadata": {},
   "outputs": [
    {
     "name": "stderr",
     "output_type": "stream",
     "text": [
      "C:\\Anaconda3\\lib\\site-packages\\scipy\\stats\\stats.py:1713: FutureWarning: Using a non-tuple sequence for multidimensional indexing is deprecated; use `arr[tuple(seq)]` instead of `arr[seq]`. In the future this will be interpreted as an array index, `arr[np.array(seq)]`, which will result either in an error or a different result.\n",
      "  return np.add.reduce(sorted[indexer] * weights, axis=axis) / sumval\n"
     ]
    },
    {
     "data": {
      "text/plain": [
       "Text(0.5,1,'capital_loss distribution')"
      ]
     },
     "execution_count": 53,
     "metadata": {},
     "output_type": "execute_result"
    },
    {
     "data": {
      "image/png": "[encoded data removed]",
      "text/plain": [
       "<Figure size 432x288 with 1 Axes>"
      ]
     },
     "metadata": {},
     "output_type": "display_data"
    }
   ],
   "source": [
    "mask1 = (data3[\"capital_loss\"]>0.0) & (data3[label]==1)\n",
    "mask0 = (data3[\"capital_loss\"]>0.0) & (data3[label]==0)\n",
    "ax = sns.distplot(data3.loc[mask1, \"capital_loss\"], bins=100, label=\"label=1\")\n",
    "sns.distplot(data3.loc[mask0, \"capital_loss\"], bins=100, label=\"label=0\")\n",
    "ax.set_title(\"capital_loss distribution\")"
   ]
  },
  {
   "cell_type": "code",
   "execution_count": 54,
   "metadata": {},
   "outputs": [
    {
     "data": {
      "text/html": [
       "<div>\n",
       "<style scoped>\n",
       "    .dataframe tbody tr th:only-of-type {\n",
       "        vertical-align: middle;\n",
       "    }\n",
       "\n",
       "    .dataframe tbody tr th {\n",
       "        vertical-align: top;\n",
       "    }\n",
       "\n",
       "    .dataframe thead th {\n",
       "        text-align: right;\n",
       "    }\n",
       "</style>\n",
       "<table border=\"1\" class=\"dataframe\">\n",
       "  <thead>\n",
       "    <tr style=\"text-align: right;\">\n",
       "      <th></th>\n",
       "      <th>size</th>\n",
       "      <th>mean</th>\n",
       "    </tr>\n",
       "    <tr>\n",
       "      <th>capital_loss_bins</th>\n",
       "      <th></th>\n",
       "      <th></th>\n",
       "    </tr>\n",
       "  </thead>\n",
       "  <tbody>\n",
       "    <tr>\n",
       "      <th>(-inf, 0.0]</th>\n",
       "      <td>31042.0</td>\n",
       "      <td>0.227693</td>\n",
       "    </tr>\n",
       "    <tr>\n",
       "      <th>(0.0, 1800.0]</th>\n",
       "      <td>526.0</td>\n",
       "      <td>0.118388</td>\n",
       "    </tr>\n",
       "    <tr>\n",
       "      <th>(1800.0, inf]</th>\n",
       "      <td>993.0</td>\n",
       "      <td>0.714477</td>\n",
       "    </tr>\n",
       "  </tbody>\n",
       "</table>\n",
       "</div>"
      ],
      "text/plain": [
       "                      size      mean\n",
       "capital_loss_bins                   \n",
       "(-inf, 0.0]        31042.0  0.227693\n",
       "(0.0, 1800.0]        526.0  0.118388\n",
       "(1800.0, inf]        993.0  0.714477"
      ]
     },
     "execution_count": 54,
     "metadata": {},
     "output_type": "execute_result"
    }
   ],
   "source": [
    "data3[\"capital_loss_bins\"] = pd.cut(data3[\"capital_loss\"], [np.NINF, 0.0, 1800, np.inf])\n",
    "data3.groupby(\"capital_loss_bins\")[label].agg([np.size, np.mean])"
   ]
  },
  {
   "cell_type": "code",
   "execution_count": 55,
   "metadata": {},
   "outputs": [
    {
     "name": "stderr",
     "output_type": "stream",
     "text": [
      "C:\\Anaconda3\\lib\\site-packages\\scipy\\stats\\stats.py:1713: FutureWarning: Using a non-tuple sequence for multidimensional indexing is deprecated; use `arr[tuple(seq)]` instead of `arr[seq]`. In the future this will be interpreted as an array index, `arr[np.array(seq)]`, which will result either in an error or a different result.\n",
      "  return np.add.reduce(sorted[indexer] * weights, axis=axis) / sumval\n"
     ]
    },
    {
     "data": {
      "text/plain": [
       "Text(0.5,1,'fnlwgt distribution')"
      ]
     },
     "execution_count": 55,
     "metadata": {},
     "output_type": "execute_result"
    },
    {
     "data": {
      "image/png": "[encoded data removed]",
      "text/plain": [
       "<Figure size 432x288 with 1 Axes>"
      ]
     },
     "metadata": {},
     "output_type": "display_data"
    }
   ],
   "source": [
    "ax = sns.distplot(data3.loc[(data3[label]==1), \"fnlwgt\"], label=\"label=1\", bins=20)\n",
    "sns.distplot(data3.loc[(data3[label]==0), \"fnlwgt\"], label=\"label=0\", bins=20)\n",
    "ax.set_title(\"fnlwgt distribution\")"
   ]
  },
  {
   "cell_type": "code",
   "execution_count": 56,
   "metadata": {},
   "outputs": [
    {
     "data": {
      "text/html": [
       "<div>\n",
       "<style scoped>\n",
       "    .dataframe tbody tr th:only-of-type {\n",
       "        vertical-align: middle;\n",
       "    }\n",
       "\n",
       "    .dataframe tbody tr th {\n",
       "        vertical-align: top;\n",
       "    }\n",
       "\n",
       "    .dataframe thead th {\n",
       "        text-align: right;\n",
       "    }\n",
       "</style>\n",
       "<table border=\"1\" class=\"dataframe\">\n",
       "  <thead>\n",
       "    <tr style=\"text-align: right;\">\n",
       "      <th></th>\n",
       "      <th>size</th>\n",
       "      <th>mean</th>\n",
       "    </tr>\n",
       "    <tr>\n",
       "      <th>fnlwgt_buckets</th>\n",
       "      <th></th>\n",
       "      <th></th>\n",
       "    </tr>\n",
       "  </thead>\n",
       "  <tbody>\n",
       "    <tr>\n",
       "      <th>(12284.999, 106648.0]</th>\n",
       "      <td>6513.0</td>\n",
       "      <td>0.234979</td>\n",
       "    </tr>\n",
       "    <tr>\n",
       "      <th>(106648.0, 158662.0]</th>\n",
       "      <td>6512.0</td>\n",
       "      <td>0.257102</td>\n",
       "    </tr>\n",
       "    <tr>\n",
       "      <th>(158662.0, 196338.0]</th>\n",
       "      <td>6512.0</td>\n",
       "      <td>0.252039</td>\n",
       "    </tr>\n",
       "    <tr>\n",
       "      <th>(196338.0, 259873.0]</th>\n",
       "      <td>6512.0</td>\n",
       "      <td>0.228425</td>\n",
       "    </tr>\n",
       "    <tr>\n",
       "      <th>(259873.0, 1484705.0]</th>\n",
       "      <td>6512.0</td>\n",
       "      <td>0.231459</td>\n",
       "    </tr>\n",
       "  </tbody>\n",
       "</table>\n",
       "</div>"
      ],
      "text/plain": [
       "                         size      mean\n",
       "fnlwgt_buckets                         \n",
       "(12284.999, 106648.0]  6513.0  0.234979\n",
       "(106648.0, 158662.0]   6512.0  0.257102\n",
       "(158662.0, 196338.0]   6512.0  0.252039\n",
       "(196338.0, 259873.0]   6512.0  0.228425\n",
       "(259873.0, 1484705.0]  6512.0  0.231459"
      ]
     },
     "execution_count": 56,
     "metadata": {},
     "output_type": "execute_result"
    }
   ],
   "source": [
    "data3[\"fnlwgt_buckets\"] = pd.qcut(data3[\"fnlwgt\"], 5, duplicates=\"drop\")\n",
    "data3.groupby(\"fnlwgt_buckets\")[label].agg([np.size, np.mean])"
   ]
  },
  {
   "cell_type": "code",
   "execution_count": 57,
   "metadata": {},
   "outputs": [
    {
     "data": {
      "text/plain": [
       "array([0, 1], dtype=int64)"
      ]
     },
     "execution_count": 57,
     "metadata": {},
     "output_type": "execute_result"
    }
   ],
   "source": [
    "data3[\"sex\"] = np.where(data3[\"sex\"]==\"Male\", 1,0)\n",
    "data3[\"sex\"].unique()"
   ]
  },
  {
   "cell_type": "markdown",
   "metadata": {},
   "source": [
    "## Bivariate EDA:\n",
    "\n",
    "* Response Analysis\n",
    "* Multicollinearity Analysis"
   ]
  },
  {
   "cell_type": "markdown",
   "metadata": {},
   "source": [
    "**Response Analysis**"
   ]
  },
  {
   "cell_type": "code",
   "execution_count": 58,
   "metadata": {},
   "outputs": [
    {
     "name": "stderr",
     "output_type": "stream",
     "text": [
      "C:\\Anaconda3\\lib\\site-packages\\scipy\\stats\\stats.py:1713: FutureWarning: Using a non-tuple sequence for multidimensional indexing is deprecated; use `arr[tuple(seq)]` instead of `arr[seq]`. In the future this will be interpreted as an array index, `arr[np.array(seq)]`, which will result either in an error or a different result.\n",
      "  return np.add.reduce(sorted[indexer] * weights, axis=axis) / sumval\n"
     ]
    },
    {
     "data": {
      "text/plain": [
       "Text(0.5,1,'Age distribution')"
      ]
     },
     "execution_count": 58,
     "metadata": {},
     "output_type": "execute_result"
    },
    {
     "data": {
      "image/png": "[encoded data removed]",
      "text/plain": [
       "<Figure size 432x288 with 1 Axes>"
      ]
     },
     "metadata": {},
     "output_type": "display_data"
    }
   ],
   "source": [
    "ax = sns.distplot(data3.loc[(data3[label]==1), \"age\"], label=\"label=1\", bins=20)\n",
    "sns.distplot(data3.loc[(data3[label]==0), \"age\"], label=\"label=0\", bins=20)\n",
    "ax.set_title(\"Age distribution\")"
   ]
  },
  {
   "cell_type": "code",
   "execution_count": 59,
   "metadata": {},
   "outputs": [
    {
     "data": {
      "text/html": [
       "<div>\n",
       "<style scoped>\n",
       "    .dataframe tbody tr th:only-of-type {\n",
       "        vertical-align: middle;\n",
       "    }\n",
       "\n",
       "    .dataframe tbody tr th {\n",
       "        vertical-align: top;\n",
       "    }\n",
       "\n",
       "    .dataframe thead th {\n",
       "        text-align: right;\n",
       "    }\n",
       "</style>\n",
       "<table border=\"1\" class=\"dataframe\">\n",
       "  <thead>\n",
       "    <tr style=\"text-align: right;\">\n",
       "      <th></th>\n",
       "      <th>size</th>\n",
       "      <th>mean</th>\n",
       "    </tr>\n",
       "    <tr>\n",
       "      <th>age_buckets</th>\n",
       "      <th></th>\n",
       "      <th></th>\n",
       "    </tr>\n",
       "  </thead>\n",
       "  <tbody>\n",
       "    <tr>\n",
       "      <th>(16.999, 31.0]</th>\n",
       "      <td>10929.0</td>\n",
       "      <td>0.077226</td>\n",
       "    </tr>\n",
       "    <tr>\n",
       "      <th>(31.0, 42.0]</th>\n",
       "      <td>11249.0</td>\n",
       "      <td>0.289322</td>\n",
       "    </tr>\n",
       "    <tr>\n",
       "      <th>(42.0, 90.0]</th>\n",
       "      <td>10383.0</td>\n",
       "      <td>0.358377</td>\n",
       "    </tr>\n",
       "  </tbody>\n",
       "</table>\n",
       "</div>"
      ],
      "text/plain": [
       "                   size      mean\n",
       "age_buckets                      \n",
       "(16.999, 31.0]  10929.0  0.077226\n",
       "(31.0, 42.0]    11249.0  0.289322\n",
       "(42.0, 90.0]    10383.0  0.358377"
      ]
     },
     "execution_count": 59,
     "metadata": {},
     "output_type": "execute_result"
    }
   ],
   "source": [
    "data3[\"age_buckets\"] = pd.qcut(data3[\"age\"], 3)\n",
    "data3.groupby(\"age_buckets\")[label].agg([np.size, np.mean])"
   ]
  },
  {
   "cell_type": "code",
   "execution_count": 60,
   "metadata": {},
   "outputs": [
    {
     "name": "stderr",
     "output_type": "stream",
     "text": [
      "C:\\Anaconda3\\lib\\site-packages\\scipy\\stats\\stats.py:1713: FutureWarning: Using a non-tuple sequence for multidimensional indexing is deprecated; use `arr[tuple(seq)]` instead of `arr[seq]`. In the future this will be interpreted as an array index, `arr[np.array(seq)]`, which will result either in an error or a different result.\n",
      "  return np.add.reduce(sorted[indexer] * weights, axis=axis) / sumval\n"
     ]
    },
    {
     "data": {
      "text/plain": [
       "Text(0.5,1,'hours_per_week distribution')"
      ]
     },
     "execution_count": 60,
     "metadata": {},
     "output_type": "execute_result"
    },
    {
     "data": {
      "image/png": "[encoded data removed]",
      "text/plain": [
       "<Figure size 432x288 with 1 Axes>"
      ]
     },
     "metadata": {},
     "output_type": "display_data"
    }
   ],
   "source": [
    "ax = sns.distplot(data3.loc[(data3[label]==1), \"hours_per_week\"], label=\"label=1\", bins=20)\n",
    "sns.distplot(data3.loc[(data3[label]==0), \"hours_per_week\"], label=\"label=0\", bins=20)\n",
    "ax.set_title(\"hours_per_week distribution\")"
   ]
  },
  {
   "cell_type": "code",
   "execution_count": 61,
   "metadata": {},
   "outputs": [
    {
     "data": {
      "text/html": [
       "<div>\n",
       "<style scoped>\n",
       "    .dataframe tbody tr th:only-of-type {\n",
       "        vertical-align: middle;\n",
       "    }\n",
       "\n",
       "    .dataframe tbody tr th {\n",
       "        vertical-align: top;\n",
       "    }\n",
       "\n",
       "    .dataframe thead th {\n",
       "        text-align: right;\n",
       "    }\n",
       "</style>\n",
       "<table border=\"1\" class=\"dataframe\">\n",
       "  <thead>\n",
       "    <tr style=\"text-align: right;\">\n",
       "      <th></th>\n",
       "      <th>size</th>\n",
       "      <th>mean</th>\n",
       "    </tr>\n",
       "    <tr>\n",
       "      <th>hours_per_week_buckets</th>\n",
       "      <th></th>\n",
       "      <th></th>\n",
       "    </tr>\n",
       "  </thead>\n",
       "  <tbody>\n",
       "    <tr>\n",
       "      <th>(0.999, 40.0]</th>\n",
       "      <td>22980.0</td>\n",
       "      <td>0.174487</td>\n",
       "    </tr>\n",
       "    <tr>\n",
       "      <th>(40.0, 99.0]</th>\n",
       "      <td>9581.0</td>\n",
       "      <td>0.398698</td>\n",
       "    </tr>\n",
       "  </tbody>\n",
       "</table>\n",
       "</div>"
      ],
      "text/plain": [
       "                           size      mean\n",
       "hours_per_week_buckets                   \n",
       "(0.999, 40.0]           22980.0  0.174487\n",
       "(40.0, 99.0]             9581.0  0.398698"
      ]
     },
     "execution_count": 61,
     "metadata": {},
     "output_type": "execute_result"
    }
   ],
   "source": [
    "data3[\"hours_per_week_buckets\"] = pd.qcut(data3[\"hours_per_week\"], 3, duplicates=\"drop\")\n",
    "data3.groupby(\"hours_per_week_buckets\")[label].agg([np.size, np.mean])"
   ]
  },
  {
   "cell_type": "markdown",
   "metadata": {},
   "source": [
    "$$ WOE_{xj} = ln(\\frac{p_{attribute}^{non-event}}{p_{attribute}^{event}})$$ "
   ]
  },
  {
   "cell_type": "markdown",
   "metadata": {},
   "source": [
    "$$ \\text{smoothed } WOE_{xj} = ln(\\frac{ \\frac{N_{attribute}^{non-event}+\\alpha}{N_{total}^{non-event}} }{ \\frac{N_{attribute}^{event}+\\alpha}{N_{total}^{event}} }) $$ \n"
   ]
  },
  {
   "cell_type": "markdown",
   "metadata": {},
   "source": [
    "$$ \\alpha \\text{ smoothing parameter between [0,1], by default=0.5}$$"
   ]
  },
  {
   "cell_type": "markdown",
   "metadata": {},
   "source": [
    "$$ IV = \\sum_{i=1}^{m}(\\frac{N_{non-event}^{attr}}{N_{non-event}^{total}}-\\frac{N_{event}^{attr}}{N_{event}^{total}})*WOE_{i}$$"
   ]
  },
  {
   "cell_type": "code",
   "execution_count": 62,
   "metadata": {},
   "outputs": [],
   "source": [
    "def catFeatureEDA(df, label, feature, limit, smooth_param):\n",
    "    eprop = df.groupby(feature)[label].agg([np.size, np.mean, np.sum]).rename(columns={\"sum\": \"n1\", \"size\": \"n\", \"mean\": \"eprop\"})\n",
    "    #Compute total stats\n",
    "    n = eprop[\"n\"].sum()\n",
    "    N1 = eprop[\"n1\"].sum()\n",
    "    N0 = n-N1\n",
    "    \n",
    "    eprop[\"n_pct\"] = eprop[\"n\"] / n\n",
    "    eprop[\"n0\"] = eprop[\"n\"] - eprop[\"n1\"]\n",
    "    eprop[\"neprop\"] = eprop[\"n0\"] /  eprop[\"n\"]\n",
    "    eprop.reset_index(inplace=True)\n",
    "    eprop.rename(columns={feature: \"levels\"}, inplace=True)\n",
    "    eprop[\"WOE\"] = np.log( ((eprop[\"n0\"] + smooth_param)/N0) / ((eprop[\"n1\"]+ smooth_param)/N1) )\n",
    "    IV = ( eprop[\"WOE\"]*((eprop[\"n0\"]/N0)-(eprop[\"n1\"]/N1)) ).sum()\n",
    "    eprop[\"feature\"] = feature\n",
    "    eprop[\"IV\"] = IV\n",
    "    eprop.sort_values(by=[\"IV\", \"WOE\"], ascending=[True, False], inplace=True)\n",
    "    \n",
    "    return eprop[:limit][[\"feature\", \"levels\", \"WOE\", \"IV\", \"eprop\", \"n_pct\", \"n1\", \"n0\", \"n\"]]"
   ]
  },
  {
   "cell_type": "code",
   "execution_count": 63,
   "metadata": {},
   "outputs": [
    {
     "data": {
      "text/html": [
       "<div>\n",
       "<style scoped>\n",
       "    .dataframe tbody tr th:only-of-type {\n",
       "        vertical-align: middle;\n",
       "    }\n",
       "\n",
       "    .dataframe tbody tr th {\n",
       "        vertical-align: top;\n",
       "    }\n",
       "\n",
       "    .dataframe thead th {\n",
       "        text-align: right;\n",
       "    }\n",
       "</style>\n",
       "<table border=\"1\" class=\"dataframe\">\n",
       "  <thead>\n",
       "    <tr style=\"text-align: right;\">\n",
       "      <th></th>\n",
       "      <th>feature</th>\n",
       "      <th>levels</th>\n",
       "      <th>WOE</th>\n",
       "      <th>IV</th>\n",
       "      <th>eprop</th>\n",
       "      <th>n_pct</th>\n",
       "      <th>n1</th>\n",
       "      <th>n0</th>\n",
       "      <th>n</th>\n",
       "    </tr>\n",
       "  </thead>\n",
       "  <tbody>\n",
       "    <tr>\n",
       "      <th>0</th>\n",
       "      <td>MI_age</td>\n",
       "      <td>0</td>\n",
       "      <td>0.009736</td>\n",
       "      <td>0.001124</td>\n",
       "      <td>0.238999</td>\n",
       "      <td>0.923178</td>\n",
       "      <td>5388.0</td>\n",
       "      <td>17156.0</td>\n",
       "      <td>22544.0</td>\n",
       "    </tr>\n",
       "    <tr>\n",
       "      <th>1</th>\n",
       "      <td>MI_age</td>\n",
       "      <td>1</td>\n",
       "      <td>-0.114774</td>\n",
       "      <td>0.001124</td>\n",
       "      <td>0.262260</td>\n",
       "      <td>0.076822</td>\n",
       "      <td>492.0</td>\n",
       "      <td>1384.0</td>\n",
       "      <td>1876.0</td>\n",
       "    </tr>\n",
       "    <tr>\n",
       "      <th>1</th>\n",
       "      <td>OI_age</td>\n",
       "      <td>1</td>\n",
       "      <td>0.336551</td>\n",
       "      <td>0.000491</td>\n",
       "      <td>0.181818</td>\n",
       "      <td>0.004505</td>\n",
       "      <td>20.0</td>\n",
       "      <td>90.0</td>\n",
       "      <td>110.0</td>\n",
       "    </tr>\n",
       "    <tr>\n",
       "      <th>0</th>\n",
       "      <td>OI_age</td>\n",
       "      <td>0</td>\n",
       "      <td>-0.001517</td>\n",
       "      <td>0.000491</td>\n",
       "      <td>0.241053</td>\n",
       "      <td>0.995495</td>\n",
       "      <td>5860.0</td>\n",
       "      <td>18450.0</td>\n",
       "      <td>24310.0</td>\n",
       "    </tr>\n",
       "    <tr>\n",
       "      <th>0</th>\n",
       "      <td>OI_hours_per_week</td>\n",
       "      <td>-1</td>\n",
       "      <td>0.652119</td>\n",
       "      <td>0.004441</td>\n",
       "      <td>0.136364</td>\n",
       "      <td>0.002703</td>\n",
       "      <td>9.0</td>\n",
       "      <td>57.0</td>\n",
       "      <td>66.0</td>\n",
       "    </tr>\n",
       "    <tr>\n",
       "      <th>1</th>\n",
       "      <td>OI_hours_per_week</td>\n",
       "      <td>0</td>\n",
       "      <td>0.004893</td>\n",
       "      <td>0.004441</td>\n",
       "      <td>0.239882</td>\n",
       "      <td>0.986527</td>\n",
       "      <td>5779.0</td>\n",
       "      <td>18312.0</td>\n",
       "      <td>24091.0</td>\n",
       "    </tr>\n",
       "    <tr>\n",
       "      <th>2</th>\n",
       "      <td>OI_hours_per_week</td>\n",
       "      <td>1</td>\n",
       "      <td>-0.530999</td>\n",
       "      <td>0.004441</td>\n",
       "      <td>0.349810</td>\n",
       "      <td>0.010770</td>\n",
       "      <td>92.0</td>\n",
       "      <td>171.0</td>\n",
       "      <td>263.0</td>\n",
       "    </tr>\n",
       "    <tr>\n",
       "      <th>0</th>\n",
       "      <td>hours_per_week_buckets</td>\n",
       "      <td>(0.999, 40.0]</td>\n",
       "      <td>0.405650</td>\n",
       "      <td>0.292005</td>\n",
       "      <td>0.174487</td>\n",
       "      <td>0.704300</td>\n",
       "      <td>3001.0</td>\n",
       "      <td>14198.0</td>\n",
       "      <td>17199.0</td>\n",
       "    </tr>\n",
       "    <tr>\n",
       "      <th>1</th>\n",
       "      <td>hours_per_week_buckets</td>\n",
       "      <td>(40.0, 99.0]</td>\n",
       "      <td>-0.737540</td>\n",
       "      <td>0.292005</td>\n",
       "      <td>0.398698</td>\n",
       "      <td>0.295700</td>\n",
       "      <td>2879.0</td>\n",
       "      <td>4342.0</td>\n",
       "      <td>7221.0</td>\n",
       "    </tr>\n",
       "    <tr>\n",
       "      <th>0</th>\n",
       "      <td>age_buckets</td>\n",
       "      <td>(16.999, 31.0]</td>\n",
       "      <td>1.331548</td>\n",
       "      <td>0.536236</td>\n",
       "      <td>0.077226</td>\n",
       "      <td>0.333006</td>\n",
       "      <td>628.0</td>\n",
       "      <td>7504.0</td>\n",
       "      <td>8132.0</td>\n",
       "    </tr>\n",
       "  </tbody>\n",
       "</table>\n",
       "</div>"
      ],
      "text/plain": [
       "                  feature          levels       WOE        IV     eprop  \\\n",
       "0                  MI_age               0  0.009736  0.001124  0.238999   \n",
       "1                  MI_age               1 -0.114774  0.001124  0.262260   \n",
       "1                  OI_age               1  0.336551  0.000491  0.181818   \n",
       "0                  OI_age               0 -0.001517  0.000491  0.241053   \n",
       "0       OI_hours_per_week              -1  0.652119  0.004441  0.136364   \n",
       "1       OI_hours_per_week               0  0.004893  0.004441  0.239882   \n",
       "2       OI_hours_per_week               1 -0.530999  0.004441  0.349810   \n",
       "0  hours_per_week_buckets   (0.999, 40.0]  0.405650  0.292005  0.174487   \n",
       "1  hours_per_week_buckets    (40.0, 99.0] -0.737540  0.292005  0.398698   \n",
       "0             age_buckets  (16.999, 31.0]  1.331548  0.536236  0.077226   \n",
       "\n",
       "      n_pct      n1       n0        n  \n",
       "0  0.923178  5388.0  17156.0  22544.0  \n",
       "1  0.076822   492.0   1384.0   1876.0  \n",
       "1  0.004505    20.0     90.0    110.0  \n",
       "0  0.995495  5860.0  18450.0  24310.0  \n",
       "0  0.002703     9.0     57.0     66.0  \n",
       "1  0.986527  5779.0  18312.0  24091.0  \n",
       "2  0.010770    92.0    171.0    263.0  \n",
       "0  0.704300  3001.0  14198.0  17199.0  \n",
       "1  0.295700  2879.0   4342.0   7221.0  \n",
       "0  0.333006   628.0   7504.0   8132.0  "
      ]
     },
     "execution_count": 63,
     "metadata": {},
     "output_type": "execute_result"
    }
   ],
   "source": [
    "feat_list = ['MI_age', 'OI_age',  'OI_hours_per_week', 'hours_per_week_buckets', 'age_buckets',\n",
    "             'capital_gain_bins', 'capital_loss_bins', 'fnlwgt_buckets',\n",
    "             'education', 'native_country',\n",
    "            'marital_status', 'occupation', 'race','relationship', 'sex', 'workclass']\n",
    "\n",
    "eprop_df_list = list(map(lambda feat: catFeatureEDA(data3[data3[\"flg_train\"] == 1], label, feat, 10, 0.5), feat_list))\n",
    "eprop = reduce(lambda a, b: a.append(b), eprop_df_list)\n",
    "eprop[:10]"
   ]
  },
  {
   "cell_type": "code",
   "execution_count": 64,
   "metadata": {},
   "outputs": [],
   "source": [
    "eprop_IV = eprop[[\"feature\", \"IV\"]].drop_duplicates().sort_values(by=\"IV\",ascending=True)\n",
    "eprop_IV[\"abs_IV\"] = abs(eprop_IV[\"IV\"])"
   ]
  },
  {
   "cell_type": "code",
   "execution_count": 65,
   "metadata": {},
   "outputs": [
    {
     "data": {
      "image/png": "[encoded data removed]",
      "text/plain": [
       "<Figure size 432x288 with 1 Axes>"
      ]
     },
     "metadata": {},
     "output_type": "display_data"
    }
   ],
   "source": [
    "plt.barh(eprop_IV[\"feature\"], eprop_IV[\"IV\"], alpha=0.5)\n",
    "\n",
    "ax = plt.gca()\n",
    "frames = ax.spines\n",
    "frames[\"right\"].set_visible(False)\n",
    "frames[\"top\"].set_visible(False)\n",
    "\n",
    "plt.xlabel(\"IV\")\n",
    "plt.ylabel(\"features\")\n",
    "plt.title('Bivariate response analysis: Feature Importance')\n",
    "plt.show()"
   ]
  },
  {
   "cell_type": "markdown",
   "metadata": {},
   "source": [
    "## Model Building"
   ]
  },
  {
   "cell_type": "markdown",
   "metadata": {},
   "source": [
    "**Raw model**"
   ]
  },
  {
   "cell_type": "code",
   "execution_count": 66,
   "metadata": {},
   "outputs": [],
   "source": [
    "raw_feat_list = ['age', 'hours_per_week' ,\n",
    "             'capital_gain', 'capital_loss', 'fnlwgt',\n",
    "             'education', 'native_country',\n",
    "            'marital_status', 'occupation', 'race','relationship', 'sex', 'workclass']"
   ]
  },
  {
   "cell_type": "code",
   "execution_count": 67,
   "metadata": {},
   "outputs": [
    {
     "name": "stderr",
     "output_type": "stream",
     "text": [
      "C:\\Anaconda3\\lib\\site-packages\\sklearn\\model_selection\\_split.py:2026: FutureWarning: From version 0.21, test_size will always complement train_size unless both are specified.\n",
      "  FutureWarning)\n"
     ]
    },
    {
     "name": "stdout",
     "output_type": "stream",
     "text": [
      "Train AUC: 0.5842563019990692 \n",
      "Test AUC: 0.5776836025544703\n"
     ]
    }
   ],
   "source": [
    "data_fte = pd.get_dummies(data1[raw_feat_list + [label, 'flg_train']])\n",
    "X = data_fte[data_fte['flg_train']==1].drop(['flg_train'], axis=1)\n",
    "score = data_fte[data_fte['flg_train']==0].drop(['flg_train', label], axis=1)\n",
    "y = X.pop(label)\n",
    "\n",
    "X_train, X_test, y_train, y_test = train_test_split(X, y, train_size=0.7, random_state=123)\n",
    "\n",
    "logreg = LogisticRegression().fit(X_train, y_train)\n",
    "\n",
    "train_probs=logreg.predict_proba(X_train)[:,1]\n",
    "test_probs=logreg.predict_proba(X_test)[:,1]\n",
    "\n",
    "train_auc = roc_auc_score(y_train, train_probs) \n",
    "test_auc = roc_auc_score(y_test, test_probs) \n",
    "\n",
    "print(\"Train AUC: {} \\nTest AUC: {}\".format(train_auc, test_auc))"
   ]
  },
  {
   "cell_type": "code",
   "execution_count": 68,
   "metadata": {},
   "outputs": [],
   "source": [
    "feat_list = ['MI_age', 'OI_age',  'OI_hours_per_week', 'age', 'hours_per_week' ,\n",
    "             'capital_gain_bins', 'capital_loss_bins', 'fnlwgt_buckets',\n",
    "             'education', 'native_country',\n",
    "            'marital_status', 'occupation', 'race','relationship', 'sex', 'workclass']"
   ]
  },
  {
   "cell_type": "markdown",
   "metadata": {},
   "source": [
    "**Feature Engineering + Logitic Regression**"
   ]
  },
  {
   "cell_type": "code",
   "execution_count": 69,
   "metadata": {},
   "outputs": [
    {
     "name": "stderr",
     "output_type": "stream",
     "text": [
      "C:\\Anaconda3\\lib\\site-packages\\sklearn\\model_selection\\_split.py:2026: FutureWarning: From version 0.21, test_size will always complement train_size unless both are specified.\n",
      "  FutureWarning)\n"
     ]
    },
    {
     "name": "stdout",
     "output_type": "stream",
     "text": [
      "CV AUC: 0.9014718629388594 \n",
      "Train AUC: 0.904950444204316 \n",
      "Test AUC: 0.9014667992356189\n"
     ]
    }
   ],
   "source": [
    "from sklearn.model_selection import GridSearchCV\n",
    "\n",
    "feat_list = ['MI_age', 'age_buckets',  'hours_per_week', 'hours_per_week_buckets' ,\n",
    "             'capital_gain_bins', 'capital_loss_bins', 'fnlwgt_buckets',\n",
    "             'education', 'native_country',\n",
    "            'marital_status', 'occupation', 'race','relationship', 'sex', 'workclass']\n",
    "\n",
    "\n",
    "data3_fte = pd.get_dummies(data3[feat_list + [label, 'flg_train']])\n",
    "X = data3_fte[data3_fte['flg_train']==1].drop(['flg_train'], axis=1)\n",
    "score = data3_fte[data3_fte['flg_train']==0].drop(['flg_train', label], axis=1)\n",
    "y = X.pop(label)\n",
    "\n",
    "X_train, X_test, y_train, y_test = train_test_split(X, y, train_size=0.7, random_state=123)\n",
    "\n",
    "param_grid = {'C':[0.001, 0.01, 0.1, 1.0, 10.0]}\n",
    "logreg_cv = GridSearchCV(LogisticRegression(penalty='l1'), param_grid, cv=5, scoring=\"roc_auc\", refit=True).fit(X_train, y_train)\n",
    "\n",
    "train_probs=logreg_cv.predict_proba(X_train)[:,1]\n",
    "test_probs=logreg_cv.predict_proba(X_test)[:,1]\n",
    "\n",
    "cv_auc = logreg_cv.best_score_ \n",
    "train_auc = roc_auc_score(y_train, train_probs) \n",
    "test_auc = roc_auc_score(y_test, test_probs) \n",
    "\n",
    "print(\"CV AUC: {} \\nTrain AUC: {} \\nTest AUC: {}\".format(cv_auc, train_auc, test_auc))"
   ]
  },
  {
   "cell_type": "code",
   "execution_count": 70,
   "metadata": {},
   "outputs": [
    {
     "data": {
      "text/plain": [
       "[(0.9014718629388594, {'C': 1.0}),\n",
       " (0.901320844786849, {'C': 10.0}),\n",
       " (0.8990232120178223, {'C': 0.1}),\n",
       " (0.8751557516886359, {'C': 0.01}),\n",
       " (0.5903145570288731, {'C': 0.001})]"
      ]
     },
     "execution_count": 70,
     "metadata": {},
     "output_type": "execute_result"
    }
   ],
   "source": [
    "cv_results= zip(logreg_cv.cv_results_['mean_test_score'], logreg_cv.cv_results_['params'])\n",
    "sorted(cv_results, key=lambda pair: pair[0], reverse=True)"
   ]
  },
  {
   "cell_type": "markdown",
   "metadata": {},
   "source": [
    "## Model Assessment"
   ]
  },
  {
   "cell_type": "markdown",
   "metadata": {},
   "source": [
    "### Posterior probability distribution"
   ]
  },
  {
   "cell_type": "code",
   "execution_count": 71,
   "metadata": {},
   "outputs": [],
   "source": [
    "test_scored_df = pd.DataFrame({\"y_test\": y_test, \"test_probs\": test_probs})\n",
    "test_scored_df[\"prob_buckets\"] = pd.qcut(test_scored_df[\"test_probs\"], 100)"
   ]
  },
  {
   "cell_type": "code",
   "execution_count": 72,
   "metadata": {},
   "outputs": [
    {
     "data": {
      "text/html": [
       "<div>\n",
       "<style scoped>\n",
       "    .dataframe tbody tr th:only-of-type {\n",
       "        vertical-align: middle;\n",
       "    }\n",
       "\n",
       "    .dataframe tbody tr th {\n",
       "        vertical-align: top;\n",
       "    }\n",
       "\n",
       "    .dataframe thead th {\n",
       "        text-align: right;\n",
       "    }\n",
       "</style>\n",
       "<table border=\"1\" class=\"dataframe\">\n",
       "  <thead>\n",
       "    <tr style=\"text-align: right;\">\n",
       "      <th></th>\n",
       "      <th>test_probs</th>\n",
       "    </tr>\n",
       "    <tr>\n",
       "      <th>y_test</th>\n",
       "      <th></th>\n",
       "    </tr>\n",
       "  </thead>\n",
       "  <tbody>\n",
       "    <tr>\n",
       "      <th>0.0</th>\n",
       "      <td>0.135576</td>\n",
       "    </tr>\n",
       "    <tr>\n",
       "      <th>1.0</th>\n",
       "      <td>0.562027</td>\n",
       "    </tr>\n",
       "  </tbody>\n",
       "</table>\n",
       "</div>"
      ],
      "text/plain": [
       "        test_probs\n",
       "y_test            \n",
       "0.0       0.135576\n",
       "1.0       0.562027"
      ]
     },
     "execution_count": 72,
     "metadata": {},
     "output_type": "execute_result"
    }
   ],
   "source": [
    "test_scored_df.groupby(\"y_test\").agg(np.mean)"
   ]
  },
  {
   "cell_type": "code",
   "execution_count": 73,
   "metadata": {},
   "outputs": [
    {
     "name": "stderr",
     "output_type": "stream",
     "text": [
      "C:\\Anaconda3\\lib\\site-packages\\scipy\\stats\\stats.py:1713: FutureWarning: Using a non-tuple sequence for multidimensional indexing is deprecated; use `arr[tuple(seq)]` instead of `arr[seq]`. In the future this will be interpreted as an array index, `arr[np.array(seq)]`, which will result either in an error or a different result.\n",
      "  return np.add.reduce(sorted[indexer] * weights, axis=axis) / sumval\n"
     ]
    },
    {
     "data": {
      "text/plain": [
       "Text(0.5,1,'Posterior distribution by label')"
      ]
     },
     "execution_count": 73,
     "metadata": {},
     "output_type": "execute_result"
    },
    {
     "data": {
      "image/png": "[encoded data removed]",
      "text/plain": [
       "<Figure size 432x288 with 1 Axes>"
      ]
     },
     "metadata": {},
     "output_type": "display_data"
    }
   ],
   "source": [
    "mask1 = (test_scored_df[\"y_test\"]==1.0)\n",
    "mask0 = (test_scored_df[\"y_test\"]==0.0)\n",
    "ax = sns.distplot(test_scored_df.loc[mask1, \"test_probs\"], bins=100, label=\"label=1\")\n",
    "sns.distplot(test_scored_df.loc[mask0, \"test_probs\"], bins=100, label=\"label=0\")\n",
    "ax.set_title(\"Posterior distribution by label\")"
   ]
  },
  {
   "cell_type": "markdown",
   "metadata": {},
   "source": [
    "### Accuracy Plot"
   ]
  },
  {
   "cell_type": "code",
   "execution_count": 74,
   "metadata": {},
   "outputs": [
    {
     "data": {
      "image/png": "[encoded data removed]",
      "text/plain": [
       "<Figure size 432x288 with 1 Axes>"
      ]
     },
     "metadata": {},
     "output_type": "display_data"
    }
   ],
   "source": [
    "pred_thresholds = np.linspace(0.0,1.0, 11)\n",
    "test_acc = []\n",
    "for threshold in pred_thresholds:\n",
    "    test_preds=np.where(test_probs>=threshold, 1,0)\n",
    "    acc=accuracy_score(y_test,test_preds)\n",
    "    test_acc = test_acc + [acc]\n",
    "\n",
    "\n",
    "\n",
    "ax = plt.gca()\n",
    "frames = ax.spines\n",
    "frames[\"right\"].set_visible(False)\n",
    "frames[\"top\"].set_visible(False)\n",
    "\n",
    "plt.plot(pred_thresholds, test_acc, '-o', alpha=0.5)\n",
    "h_acc_max=pred_thresholds[np.argmax(test_acc)]\n",
    "max_acc=np.max(test_acc)\n",
    "\n",
    "ax.vlines(x=h_acc_max, ymin=0.0, ymax=1.1, linewidth=2, color='g', alpha=0.25)\n",
    "\n",
    "ax.set_xticks(pred_thresholds, minor=False)\n",
    "\n",
    "textStr = \"{0:.0%}\".format(max_acc)\n",
    "props = dict(boxstyle='round', facecolor='wheat', alpha=0.5)\n",
    "ax.text(0.05+h_acc_max, 0.95, textStr, fontsize=14, verticalalignment='bottom', bbox=props)\n",
    "\n",
    "\n",
    "plt.xlabel(\"Prediction threshold\")\n",
    "plt.ylabel(\"Accuracy\")\n",
    "plt.title('Accuracy plot')\n",
    "plt.show()"
   ]
  },
  {
   "cell_type": "markdown",
   "metadata": {},
   "source": [
    "### Calibration Plot"
   ]
  },
  {
   "cell_type": "code",
   "execution_count": 75,
   "metadata": {},
   "outputs": [
    {
     "data": {
      "text/html": [
       "<div>\n",
       "<style scoped>\n",
       "    .dataframe tbody tr th:only-of-type {\n",
       "        vertical-align: middle;\n",
       "    }\n",
       "\n",
       "    .dataframe tbody tr th {\n",
       "        vertical-align: top;\n",
       "    }\n",
       "\n",
       "    .dataframe thead th {\n",
       "        text-align: right;\n",
       "    }\n",
       "</style>\n",
       "<table border=\"1\" class=\"dataframe\">\n",
       "  <thead>\n",
       "    <tr style=\"text-align: right;\">\n",
       "      <th></th>\n",
       "      <th>y_test</th>\n",
       "      <th>test_probs</th>\n",
       "    </tr>\n",
       "    <tr>\n",
       "      <th>prob_buckets</th>\n",
       "      <th></th>\n",
       "      <th></th>\n",
       "    </tr>\n",
       "  </thead>\n",
       "  <tbody>\n",
       "    <tr>\n",
       "      <th>(-0.0008370000000000001, 0.000826]</th>\n",
       "      <td>0.0</td>\n",
       "      <td>0.000555</td>\n",
       "    </tr>\n",
       "    <tr>\n",
       "      <th>(0.000826, 0.00118]</th>\n",
       "      <td>0.0</td>\n",
       "      <td>0.001002</td>\n",
       "    </tr>\n",
       "    <tr>\n",
       "      <th>(0.00118, 0.00152]</th>\n",
       "      <td>0.0</td>\n",
       "      <td>0.001371</td>\n",
       "    </tr>\n",
       "    <tr>\n",
       "      <th>(0.00152, 0.00187]</th>\n",
       "      <td>0.0</td>\n",
       "      <td>0.001691</td>\n",
       "    </tr>\n",
       "    <tr>\n",
       "      <th>(0.00187, 0.00226]</th>\n",
       "      <td>0.0</td>\n",
       "      <td>0.002063</td>\n",
       "    </tr>\n",
       "  </tbody>\n",
       "</table>\n",
       "</div>"
      ],
      "text/plain": [
       "                                    y_test  test_probs\n",
       "prob_buckets                                          \n",
       "(-0.0008370000000000001, 0.000826]     0.0    0.000555\n",
       "(0.000826, 0.00118]                    0.0    0.001002\n",
       "(0.00118, 0.00152]                     0.0    0.001371\n",
       "(0.00152, 0.00187]                     0.0    0.001691\n",
       "(0.00187, 0.00226]                     0.0    0.002063"
      ]
     },
     "execution_count": 75,
     "metadata": {},
     "output_type": "execute_result"
    }
   ],
   "source": [
    "test_calibration_df = test_scored_df.groupby(\"prob_buckets\")[\"y_test\", \"test_probs\"].agg(np.mean)\n",
    "#test_calibration_df.rename({\"y_test\": \"prior\", \"test_probs\":\"posterior\"}, inplace=True)\n",
    "\n",
    "test_calibration_df[:5]"
   ]
  },
  {
   "cell_type": "code",
   "execution_count": 76,
   "metadata": {},
   "outputs": [
    {
     "name": "stderr",
     "output_type": "stream",
     "text": [
      "C:\\Anaconda3\\lib\\site-packages\\scipy\\stats\\stats.py:1713: FutureWarning: Using a non-tuple sequence for multidimensional indexing is deprecated; use `arr[tuple(seq)]` instead of `arr[seq]`. In the future this will be interpreted as an array index, `arr[np.array(seq)]`, which will result either in an error or a different result.\n",
      "  return np.add.reduce(sorted[indexer] * weights, axis=axis) / sumval\n"
     ]
    },
    {
     "data": {
      "text/plain": [
       "Text(0.5,1,'Calibration plot')"
      ]
     },
     "execution_count": 76,
     "metadata": {},
     "output_type": "execute_result"
    },
    {
     "data": {
      "image/png": "[encoded data removed]",
      "text/plain": [
       "<Figure size 432x288 with 1 Axes>"
      ]
     },
     "metadata": {},
     "output_type": "display_data"
    }
   ],
   "source": [
    "ax = sns.regplot(test_calibration_df[\"test_probs\"], test_calibration_df[\"y_test\"])\n",
    "ax.set_title(\"Calibration plot\")"
   ]
  },
  {
   "cell_type": "code",
   "execution_count": null,
   "metadata": {},
   "outputs": [],
   "source": []
  }
 ],
 "metadata": {
  "kernelspec": {
   "display_name": "Python 3",
   "language": "python",
   "name": "python3"
  },
  "language_info": {
   "codemirror_mode": {
    "name": "ipython",
    "version": 3
   },
   "file_extension": ".py",
   "mimetype": "text/x-python",
   "name": "python",
   "nbconvert_exporter": "python",
   "pygments_lexer": "ipython3",
   "version": "3.6.4"
  }
 },
 "nbformat": 4,
 "nbformat_minor": 2
}
