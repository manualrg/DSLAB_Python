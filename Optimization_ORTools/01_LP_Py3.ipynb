{
 "cells": [
  {
   "cell_type": "markdown",
   "metadata": {},
   "source": [
    "# Linear Programming"
   ]
  },
  {
   "cell_type": "markdown",
   "metadata": {},
   "source": [
    "Problem statement:\n",
    "\n",
    "Given a funtion z=f(x1, x2, ..., xn) named Ojective Function compute de values of the arguments x1, x2, ...,xn that yields an optimum result of the Objective Function. The optimum is achieved maximizing or minimizing the Objective Function.\n",
    "\n",
    "Arguments of this function, are called Decision Variables: x1, x2,..., xn. And those objective functions may be subject to some conditions, those conditions are expressed as a set on inequations called Constratints.\n",
    "\n",
    "Those constraints express the feasibility region, that is, a zone in Rn space where we are allowed to find the maximum/mininum value of z. This feature express some values that are forbiden, such a range of quantities, prices and so on that are restrained by regulations, manufacturing conditions or economic issues.\n",
    "\n",
    "There are a wide range of Optimizaction problems (also known as Operations Research OR), but the main ones are:\n",
    "* Linear Programming\n",
    "* Integer Programming\n",
    "* Mixed Integer Linear Programming\n",
    "* Graph Algorithms.\n",
    "\n",
    "\n",
    "From application point of view:\n",
    "* Set an optimal price given manufacturing cost and and retail price (LP)\n",
    "* Given a set of distributions points, decide where to store which product (IP)\n",
    "* Decide given a set of manufacturing nodes and distribution centers, decide where to manufacture and what quantities. (MILP)\n",
    "* Routing Problems: Compute the optimal routes, in a wide range of subproblems (Travelling Salesman Problem, Vehice Routing Problem, and so on)\n",
    "\n",
    "\n",
    "\n"
   ]
  },
  {
   "cell_type": "markdown",
   "metadata": {},
   "source": [
    "Let's get started by importing ortools library developed by Google:\n",
    "https://developers.google.com/optimization/"
   ]
  },
  {
   "cell_type": "code",
   "execution_count": 1,
   "metadata": {},
   "outputs": [],
   "source": [
    "from ortools.linear_solver import pywraplp"
   ]
  },
  {
   "cell_type": "markdown",
   "metadata": {},
   "source": [
    "## 1. Problem set up\n",
    "\n",
    "The main goal in this step is to abstract from business definition a mathematical set up defining:"
   ]
  },
  {
   "cell_type": "markdown",
   "metadata": {},
   "source": [
    "$$\\text{Objective function: }max(z), z =3x + 4y$$\n",
    "$$\\text{ s.t. (1) }x +2y \\le 14 $$\n",
    "$$\\text{(2) }3x-y \\ge 0 $$\n",
    "$$\\text{(3) }x-y \\le 2 $$"
   ]
  },
  {
   "cell_type": "code",
   "execution_count": 2,
   "metadata": {},
   "outputs": [],
   "source": [
    "# Instantiate a solver, naming it LinearExample.\n",
    "solver = pywraplp.Solver('LinearExample',\n",
    "                           pywraplp.Solver.GLOP_LINEAR_PROGRAMMING)"
   ]
  },
  {
   "cell_type": "markdown",
   "metadata": {},
   "source": [
    "Create decision variables"
   ]
  },
  {
   "cell_type": "code",
   "execution_count": 3,
   "metadata": {},
   "outputs": [],
   "source": [
    "x = solver.NumVar(-solver.infinity(), solver.infinity(), 'x')\n",
    "y = solver.NumVar(-solver.infinity(), solver.infinity(), 'y')"
   ]
  },
  {
   "cell_type": "markdown",
   "metadata": {},
   "source": [
    "Define constraints"
   ]
  },
  {
   "cell_type": "code",
   "execution_count": 4,
   "metadata": {},
   "outputs": [],
   "source": [
    "# Constraint 1: x + 2y <= 14.\n",
    "constraint1 = solver.Constraint(-solver.infinity(), 14)\n",
    "constraint1.SetCoefficient(x, 1)\n",
    "constraint1.SetCoefficient(y, 2)\n",
    "\n",
    "# Constraint 2: 3x - y >= 0.\n",
    "constraint2 = solver.Constraint(0, solver.infinity())\n",
    "constraint2.SetCoefficient(x, 3)\n",
    "constraint2.SetCoefficient(y, -1)\n",
    "\n",
    "# Constraint 3: x - y <= 2.\n",
    "constraint3 = solver.Constraint(-solver.infinity(), 2)\n",
    "constraint3.SetCoefficient(x, 1)\n",
    "constraint3.SetCoefficient(y, -1)"
   ]
  },
  {
   "cell_type": "markdown",
   "metadata": {},
   "source": [
    "Define the objective function."
   ]
  },
  {
   "cell_type": "code",
   "execution_count": 5,
   "metadata": {},
   "outputs": [],
   "source": [
    "# Objective function: 3x + 4y.\n",
    "objective = solver.Objective()\n",
    "objective.SetCoefficient(x, 3)\n",
    "objective.SetCoefficient(y, 4)\n",
    "objective.SetMaximization()"
   ]
  },
  {
   "cell_type": "markdown",
   "metadata": {},
   "source": [
    "## 2. Compute a solution"
   ]
  },
  {
   "cell_type": "markdown",
   "metadata": {},
   "source": [
    "Invoke the solver and display results"
   ]
  },
  {
   "cell_type": "code",
   "execution_count": 6,
   "metadata": {},
   "outputs": [
    {
     "name": "stdout",
     "output_type": "stream",
     "text": [
      "Number of variables = 2\n",
      "Number of constraints = 3\n",
      "Solution:\n",
      "x =  5.999999999999998\n",
      "y =  3.9999999999999996\n",
      "Optimal objective value = 33.99999999999999\n"
     ]
    }
   ],
   "source": [
    "# Solve the system.\n",
    "solver.Solve()\n",
    "opt_solution = 3 * x.solution_value() + 4 * y.solution_value()\n",
    "print('Number of variables =', solver.NumVariables())\n",
    "print('Number of constraints =', solver.NumConstraints())\n",
    "# The value of each variable in the solution.\n",
    "print('Solution:')\n",
    "print('x = ', x.solution_value())\n",
    "print('y = ', y.solution_value())\n",
    "# The objective value of the solution.\n",
    "print('Optimal objective value =', opt_solution)"
   ]
  },
  {
   "cell_type": "code",
   "execution_count": null,
   "metadata": {},
   "outputs": [],
   "source": []
  }
 ],
 "metadata": {
  "kernelspec": {
   "display_name": "Python 3",
   "language": "python",
   "name": "python3"
  },
  "language_info": {
   "codemirror_mode": {
    "name": "ipython",
    "version": 3
   },
   "file_extension": ".py",
   "mimetype": "text/x-python",
   "name": "python",
   "nbconvert_exporter": "python",
   "pygments_lexer": "ipython3",
   "version": "3.6.4"
  }
 },
 "nbformat": 4,
 "nbformat_minor": 2
}
