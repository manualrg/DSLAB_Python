{
 "cells": [
  {
   "cell_type": "markdown",
   "metadata": {},
   "source": [
    "# Travelling Salesman Problem"
   ]
  },
  {
   "cell_type": "markdown",
   "metadata": {},
   "source": [
    "The Traveliing Salesman Problem (TSP) is an Vehicle Routing problem that tries to find the sortest path to visit every location yielding the lowest cost (distance, time, etc.) There are several assumptions:\n",
    "* There is only one route (or one vehicle), and no capacity constraints, it means that there is no constraint to the number of locations to be visited.\n",
    "* Depot is not needed to be specified, as the route is indiffernet to this feature\n",
    "* Cost from visting location j from location i may or may not be symmetric\n",
    "* There are no constraints on time or sequences."
   ]
  },
  {
   "cell_type": "code",
   "execution_count": 2,
   "metadata": {},
   "outputs": [],
   "source": [
    "import math\n",
    "from ortools.constraint_solver import pywrapcp\n",
    "from ortools.constraint_solver import routing_enums_pb2"
   ]
  },
  {
   "cell_type": "markdown",
   "metadata": {},
   "source": [
    "## 1.Create distance callback: Our input data is a matrix where each point M[i,j] is the cost (Time or distance) to travel from node i to j.\n",
    "\n",
    "Matrix is assumed to be symmetric, but it may not be case"
   ]
  },
  {
   "cell_type": "code",
   "execution_count": 3,
   "metadata": {},
   "outputs": [],
   "source": [
    "# Distance callback\n",
    "class CreateDistanceCallback(object):\n",
    "    \"\"\"Create callback to calculate distances between points.\"\"\"\n",
    "    def __init__(self):\n",
    "        \"\"\"Array of distances between points.\"\"\"\n",
    "\n",
    "        self.matrix = [\n",
    "        [   0, 2451,  713, 1018, 1631, 1374, 2408,  213, 2571,  875, 1420, 2145, 1972], # New York\n",
    "        [2451,    0, 1745, 1524,  831, 1240,  959, 2596,  403, 1589, 1374,  357,  579], # Los Angeles\n",
    "        [ 713, 1745,    0,  355,  920,  803, 1737,  851, 1858,  262,  940, 1453, 1260], # Chicago\n",
    "        [1018, 1524,  355,    0,  700,  862, 1395, 1123, 1584,  466, 1056, 1280,  987], # Minneapolis\n",
    "        [1631,  831,  920,  700,    0,  663, 1021, 1769,  949,  796,  879,  586,  371], # Denver\n",
    "        [1374, 1240,  803,  862,  663,    0, 1681, 1551, 1765,  547,  225,  887,  999], # Dallas\n",
    "        [2408,  959, 1737, 1395, 1021, 1681,    0, 2493,  678, 1724, 1891, 1114,  701], # Seattle\n",
    "        [ 213, 2596,  851, 1123, 1769, 1551, 2493,    0, 2699, 1038, 1605, 2300, 2099], # Boston\n",
    "        [2571,  403, 1858, 1584,  949, 1765,  678, 2699,    0, 1744, 1645,  653,  600], # San Francisco\n",
    "        [ 875, 1589,  262,  466,  796,  547, 1724, 1038, 1744,    0,  679, 1272, 1162], # St. Louis\n",
    "        [1420, 1374,  940, 1056,  879,  225, 1891, 1605, 1645,  679,    0, 1017, 1200], # Houston\n",
    "        [2145,  357, 1453, 1280,  586,  887, 1114, 2300,  653, 1272, 1017,    0,  504], # Phoenix\n",
    "        [1972,  579, 1260,  987,  371,  999,  701, 2099,  600, 1162,  1200,  504,   0]] # Salt Lake City\n",
    "\n",
    "    def Distance(self, from_node, to_node):\n",
    "        #The callback is the function Distance, which takes a pair of cities (from_node and to_node)\n",
    "        #and returns the corresponding entry of the distance array.\n",
    "        \n",
    "        return int(self.matrix[from_node][to_node])\n",
    "    \n",
    "    #Note: Since the routing solver does all computations with integers, \n",
    "    #any function that creates a distance callback should convert the value returned by the distance callback to an integer. \n",
    "    #In this example, the conversion is done by the Python int() function in the line"
   ]
  },
  {
   "cell_type": "code",
   "execution_count": 4,
   "metadata": {},
   "outputs": [
    {
     "data": {
      "text/plain": [
       "__main__.CreateDistanceCallback"
      ]
     },
     "execution_count": 4,
     "metadata": {},
     "output_type": "execute_result"
    }
   ],
   "source": [
    "dist_between_nodes = CreateDistanceCallback()\n",
    "type(dist_between_nodes)"
   ]
  },
  {
   "cell_type": "code",
   "execution_count": 6,
   "metadata": {},
   "outputs": [
    {
     "data": {
      "text/plain": [
       "method"
      ]
     },
     "execution_count": 6,
     "metadata": {},
     "output_type": "execute_result"
    }
   ],
   "source": [
    "dist_callback = dist_between_nodes.Distance\n",
    "type(dist_callback)"
   ]
  },
  {
   "cell_type": "markdown",
   "metadata": {},
   "source": [
    "## 2. Create Routing Problem"
   ]
  },
  {
   "cell_type": "code",
   "execution_count": 12,
   "metadata": {},
   "outputs": [],
   "source": [
    "def main():\n",
    "\n",
    "    # Cities: Subset of locations to be visited from the input Matrix\n",
    "    city_names = [\"New York\", \"Los Angeles\", \"Chicago\", \"Minneapolis\"]\n",
    "    tsp_size = len(city_names)\n",
    "    # The number of routes, which is 1 in the TSP.\n",
    "    num_routes = 1    \n",
    "    # Nodes are indexed from 0 to tsp_size - 1. The depot is the starting node of the route.\n",
    "    depot = 0\n",
    "\n",
    "    # Create routing model\n",
    "    if tsp_size > 0:\n",
    "        routing = pywrapcp.RoutingModel(tsp_size, num_routes, depot)\n",
    "        #search_parameters = pywrapcp.DefaultRoutingSearchParameters()\n",
    "        #search_parameters = search_parameters = pywrapcp.RoutingModel.DefaultModelParameters()\n",
    "        search_parameters = pywrapcp.RoutingModel.DefaultSearchParameters()\n",
    "        \n",
    "        \n",
    "        # Create the distance callback, which takes two arguments (the from and to node indices)\n",
    "        # and returns the distance between these nodes.\n",
    "        #The solver section of the program sets the distance callback to be the Distance method in the CreateDistanceCallback class.\n",
    "        dist_between_nodes = CreateDistanceCallback()\n",
    "        dist_callback = dist_between_nodes.Distance\n",
    "        \n",
    "        #Finally, the program passes the callback to the solver:\n",
    "        routing.SetArcCostEvaluatorOfAllVehicles(dist_callback)\n",
    "        \n",
    "        # Solve, returns a solution if any.\n",
    "        assignment = routing.SolveWithParameters(search_parameters)\n",
    "        if assignment:\n",
    "            # Solution cost.\n",
    "            print (\"Total distance: \" + str(assignment.ObjectiveValue()) + \" miles\\n\")\n",
    "            # Inspect solution.\n",
    "\n",
    "            route_number = 0\n",
    "            index = routing.Start(route_number) # Index of the variable for the starting node.\n",
    "            route = ''\n",
    "            while not routing.IsEnd(index):\n",
    "                # Convert variable indices to node indices in the displayed route.\n",
    "                route += str(city_names[routing.IndexToNode(index)]) + ' -> '\n",
    "                #To display the route in the output, we first get the starting index of the route.\n",
    "                #index is the index of the variable that represents the starting node of the route, called the depot. \n",
    "                #The index of a node variable is not always the same as the index of the node itself (its row number in the locations array)\n",
    "                #The program iterates through the nodes of the route by:\n",
    "                index = assignment.Value(routing.NextVar(index))\n",
    "                #which takes an index for a node variable and returns the index for the next node variable in the route\n",
    "\n",
    "            #So, when we add nodes to the route displayed in the output, we convert the indices of node variable to node indices, \n",
    "            #using the method routing.IndexToNode()\n",
    "            route += str(city_names[routing.IndexToNode(index)])\n",
    "            print (\"Route:\\n\\n\" + route)\n",
    "        else:\n",
    "            print('No solution found.') \n",
    "    else:\n",
    "        print('Specify an instance greater than 0.') \n",
    "\n"
   ]
  },
  {
   "cell_type": "markdown",
   "metadata": {},
   "source": [
    "## 3. Solve Routing Problem"
   ]
  },
  {
   "cell_type": "code",
   "execution_count": 13,
   "metadata": {},
   "outputs": [
    {
     "name": "stdout",
     "output_type": "stream",
     "text": [
      "Total distance: 4989 miles\n",
      "\n",
      "Route:\n",
      "\n",
      "New York -> Chicago -> Los Angeles -> Minneapolis -> New York\n"
     ]
    }
   ],
   "source": [
    "if __name__ == '__main__':\n",
    "    main()"
   ]
  },
  {
   "cell_type": "markdown",
   "metadata": {},
   "source": [
    "In the previous example, the distances between cities are explicitly defined in an array. You can also define the distance callback by a function that calculates the distance between any two cities. The next example uses a function that calculates the distance between any two points on Earth from their latitudes and longitudes."
   ]
  },
  {
   "cell_type": "code",
   "execution_count": 8,
   "metadata": {},
   "outputs": [],
   "source": [
    "# Distance callback\n",
    "\n",
    "class CreateDistanceCallback(object):\n",
    "    \"\"\"Create callback to calculate distances between points.\"\"\"\n",
    "\n",
    "    def __init__(self):\n",
    "\n",
    "        # Latitudes and longitudes of selected U.S. cities\n",
    "\n",
    "        locations = [[40.71,  -74.01], # New York\n",
    "                     [34.05, -118.24], # Los Angeles\n",
    "                     [41.88,  -87.63], # Chicago\n",
    "                     [44.98,  -93.27], # Minneapolis\n",
    "                     [39.74, -104.99], # Denver\n",
    "                     [32.78,  -96.89], # Dallas\n",
    "                     [47.61, -122.33], # Seattle\n",
    "                     [42.36,  -71.06], # Boston\n",
    "                     [37.77, -122.42], # San Francisco\n",
    "                     [38.63,  -90.20], # St. Louis\n",
    "                     [29.76,  -95.37], # Houston\n",
    "                     [33.45, -112.07], # Phoenix\n",
    "                     [40.76, -111.89]] # Salt Lake City\n",
    "\n",
    "\n",
    "        \"\"\"Create the distance matrix.\"\"\"\n",
    "        size = len(locations)\n",
    "        self.matrix = {}\n",
    "\n",
    "        for from_node in range(size):\n",
    "            self.matrix[from_node] = {}\n",
    "            for to_node in range(size):\n",
    "                if from_node == to_node:\n",
    "                    self.matrix[from_node][to_node] = 0\n",
    "                else:\n",
    "                    x1 = locations[from_node][0]\n",
    "                    y1 = locations[from_node][1]\n",
    "                    x2 = locations[to_node][0]\n",
    "                    y2 = locations[to_node][1]\n",
    "                    self.matrix[from_node][to_node] = distance(x1, y1, x2, y2)\n",
    "\n",
    "    def Distance(self, from_node, to_node):\n",
    "        return int(self.matrix[from_node][to_node])"
   ]
  },
  {
   "cell_type": "code",
   "execution_count": 9,
   "metadata": {},
   "outputs": [],
   "source": [
    "def distance(lat1, long1, lat2, long2):\n",
    "    # Note: The formula used in this function is not exact, as it assumes\n",
    "    # the Earth is a perfect sphere.\n",
    "\n",
    "    # Mean radius of Earth in miles\n",
    "    radius_earth = 3959\n",
    "\n",
    "    # Convert latitude and longitude to\n",
    "    # spherical coordinates in radians.\n",
    "    degrees_to_radians = math.pi/180.0\n",
    "    phi1 = lat1 * degrees_to_radians\n",
    "    phi2 = lat2 * degrees_to_radians\n",
    "    lambda1 = long1 * degrees_to_radians\n",
    "    lambda2 = long2 * degrees_to_radians\n",
    "    dphi = phi2 - phi1\n",
    "    dlambda = lambda2 - lambda1\n",
    "\n",
    "    a = haversine(dphi) + math.cos(phi1) * math.cos(phi2) * haversine(dlambda)\n",
    "    c = 2 * math.atan2(math.sqrt(a), math.sqrt(1-a))\n",
    "    d = radius_earth * c\n",
    "    return d\n",
    "\n",
    "def haversine(angle):\n",
    "    h = math.sin(angle / 2) ** 2\n",
    "    return h"
   ]
  },
  {
   "cell_type": "code",
   "execution_count": 10,
   "metadata": {},
   "outputs": [
    {
     "name": "stdout",
     "output_type": "stream",
     "text": [
      "Total distance: 4989 miles\n",
      "\n",
      "Route:\n",
      "\n",
      "New York -> Chicago -> Los Angeles -> Minneapolis -> New York\n"
     ]
    }
   ],
   "source": [
    "if __name__ == '__main__':\n",
    "    main()"
   ]
  },
  {
   "cell_type": "code",
   "execution_count": null,
   "metadata": {},
   "outputs": [],
   "source": []
  }
 ],
 "metadata": {
  "kernelspec": {
   "display_name": "Python 3",
   "language": "python",
   "name": "python3"
  },
  "language_info": {
   "codemirror_mode": {
    "name": "ipython",
    "version": 3
   },
   "file_extension": ".py",
   "mimetype": "text/x-python",
   "name": "python",
   "nbconvert_exporter": "python",
   "pygments_lexer": "ipython3",
   "version": "3.6.4"
  }
 },
 "nbformat": 4,
 "nbformat_minor": 2
}
