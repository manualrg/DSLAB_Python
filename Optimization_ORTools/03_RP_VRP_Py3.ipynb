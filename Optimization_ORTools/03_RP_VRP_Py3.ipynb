{
 "cells": [
  {
   "cell_type": "markdown",
   "metadata": {},
   "source": [
    "# Vehicle Routing Problem"
   ]
  },
  {
   "cell_type": "markdown",
   "metadata": {},
   "source": [
    "A Vehicle Routing Problem is a generalization of the TSP, so its part of the Routing Problems Family. The goal is to find the optimal set of routes (sequence of locations) for a fleet of vehicles. So our set of assumptions from TSP varies:\n",
    "\n",
    "\n",
    "* There may be several routes (or vehicles) and capacity constraints. So there is a finite number of locations that a given vehicle may visit, depending of the demand of each visited node.\n",
    "* A Depot is chosen.\n",
    "* Cost from visting location j from location i may or may not be symmetric\n",
    "* There may be or not some time window constraints. This a framework where a location can only be visited in a certain time window.\n",
    "* The number of vehicles can be constrained or optimiced if fixed cost of adding a new vehicle is set.\n"
   ]
  },
  {
   "cell_type": "markdown",
   "metadata": {},
   "source": [
    "## 1. Create distance Callback and input data as an list of (x,y) coordinates and a list of demand of each location"
   ]
  },
  {
   "cell_type": "code",
   "execution_count": 1,
   "metadata": {},
   "outputs": [],
   "source": [
    "import math\n",
    "from ortools.constraint_solver import pywrapcp\n",
    "from ortools.constraint_solver import routing_enums_pb2\n",
    "\n",
    "def distance(x1, y1, x2, y2):\n",
    "    # Manhattan distance\n",
    "    dist = abs(x1 - x2) + abs(y1 - y2)\n",
    "\n",
    "    return dist\n",
    "\n",
    "class CreateDistanceCallback(object):\n",
    "    \"\"\"Create callback to calculate distances between points.\"\"\"\n",
    "\n",
    "    def __init__(self, locations):\n",
    "        \"\"\"Initialize distance array.\"\"\"\n",
    "        size = len(locations)\n",
    "        self.matrix = {}\n",
    "\n",
    "        for from_node in range(size):\n",
    "            self.matrix[from_node] = {}\n",
    "            for to_node in range(size):\n",
    "                x1 = locations[from_node][0]\n",
    "                y1 = locations[from_node][1]\n",
    "                x2 = locations[to_node][0]\n",
    "                y2 = locations[to_node][1]\n",
    "                self.matrix[from_node][to_node] = distance(x1, y1, x2, y2)\n",
    "\n",
    "    def Distance(self, from_node, to_node):\n",
    "        return int(self.matrix[from_node][to_node])\n",
    "\n",
    "# Demand callback\n",
    "class CreateDemandCallback(object):\n",
    "    \"\"\"Create callback to get demands at each location.\"\"\"\n",
    "\n",
    "    def __init__(self, demands):\n",
    "        self.matrix = demands\n",
    "\n",
    "    def Demand(self, from_node, to_node):\n",
    "        return self.matrix[from_node]\n"
   ]
  },
  {
   "cell_type": "markdown",
   "metadata": {},
   "source": [
    "## 2.Create data:\n",
    "\n",
    "* A list of (x,y) coordinates for each location\n",
    "* Demand for each location\n",
    "* Set a location point as depot (each route must begin and end in that point)\n",
    "* Set number of vehicles"
   ]
  },
  {
   "cell_type": "code",
   "execution_count": 2,
   "metadata": {},
   "outputs": [],
   "source": [
    "def create_data_array():\n",
    "\n",
    "    locations = [[82, 76], [96, 44], [50, 5], [49, 8], [13, 7], [29, 89], [58, 30], [84, 39],\n",
    "                 [14, 24], [12, 39], [3, 82], [5, 10], [98, 52], [84, 25], [61, 59], [1, 65],\n",
    "                 [88, 51], [91, 2], [19, 32], [93, 3], [50, 93], [98, 14], [5, 42], [42, 9],\n",
    "                 [61, 62], [9, 97], [80, 55], [57, 69], [23, 15], [20, 70], [85, 60], [98, 5]]\n",
    "\n",
    "    demands = [0, 19, 21, 6, 19, 7, 12, 16, 6, 16, 8, 14, 21, 16, 3, 22, 18,\n",
    "               19, 1, 24, 8, 12, 4, 8, 24, 24, 2, 20, 15, 2, 14, 9]\n",
    "    data = [locations, demands]\n",
    "    return data"
   ]
  },
  {
   "cell_type": "code",
   "execution_count": 3,
   "metadata": {},
   "outputs": [],
   "source": [
    "#data is returned a a list of two elements, a list of locations and a list of Demands\n",
    "data = create_data_array()\n",
    "locations = data[0]\n",
    "demands = data[1]\n",
    "num_locations = len(locations)\n",
    "depot = 0  \n",
    "num_vehicles = 5"
   ]
  },
  {
   "cell_type": "code",
   "execution_count": 4,
   "metadata": {},
   "outputs": [
    {
     "data": {
      "text/plain": [
       "[[82, 76], [96, 44]]"
      ]
     },
     "execution_count": 4,
     "metadata": {},
     "output_type": "execute_result"
    }
   ],
   "source": [
    "#Get locations one and two coorindates:\n",
    "data[0][0:2]"
   ]
  },
  {
   "cell_type": "code",
   "execution_count": 5,
   "metadata": {},
   "outputs": [
    {
     "data": {
      "text/plain": [
       "[0, 19]"
      ]
     },
     "execution_count": 5,
     "metadata": {},
     "output_type": "execute_result"
    }
   ],
   "source": [
    "#Get locations one and two demand:\n",
    "data[1][0:2]"
   ]
  },
  {
   "cell_type": "markdown",
   "metadata": {},
   "source": [
    "## 3.Create Routing Model"
   ]
  },
  {
   "cell_type": "code",
   "execution_count": 6,
   "metadata": {},
   "outputs": [],
   "source": [
    "routing = pywrapcp.RoutingModel(num_locations, num_vehicles, depot)\n",
    "#search_parameters = pywrapcp.DefaultRoutingSearchParameters()\n",
    "search_parameters = pywrapcp.RoutingModel.DefaultSearchParameters()"
   ]
  },
  {
   "cell_type": "code",
   "execution_count": 7,
   "metadata": {},
   "outputs": [],
   "source": [
    "# Callback to the distance function.\n",
    "dist_between_locations = CreateDistanceCallback(locations)\n",
    "dist_callback = dist_between_locations.Distance\n",
    "routing.SetArcCostEvaluatorOfAllVehicles(dist_callback)"
   ]
  },
  {
   "cell_type": "markdown",
   "metadata": {},
   "source": [
    "### 3.1 Create Capacity Dimension"
   ]
  },
  {
   "cell_type": "markdown",
   "metadata": {},
   "source": [
    "**Dimensions:**\n",
    "\n",
    "Routing problems involve quantities that accumulate along a vehicle's route. In this example, such quantity is demand — say, the weight or volume of a package that must be delivered. For every location where a vehicle stops along its route, the total demand on the vehicle increases by the demand at that location. (Other examples of these types of quantities are the distance a vehicle travels, or its travel time.)\n",
    "\n",
    "The routing solver stores each quantity of this type in an object called a dimension. The dimension contains a callback for the quantity, along with related data and variables. You can add a dimension to a routing problem using the solver's AddDimension method"
   ]
  },
  {
   "cell_type": "markdown",
   "metadata": {},
   "source": [
    "$$ \\text{dimension: } D_{j}^{(i)} = \\sum_{i=1}^{n_{j}} d_{i}$$\n",
    "$$ \\text{i: Locations}$$\n",
    "$$ \\text{j: vehicle}$$\n",
    "$$ \\text{nj: number of locations to be visited by vehicle j}$$"
   ]
  },
  {
   "cell_type": "code",
   "execution_count": 9,
   "metadata": {},
   "outputs": [],
   "source": [
    "# Put a callback to the demands.\n",
    "demands_at_locations = CreateDemandCallback(demands)\n",
    "demands_callback = demands_at_locations.Demand"
   ]
  },
  {
   "cell_type": "code",
   "execution_count": 10,
   "metadata": {},
   "outputs": [
    {
     "data": {
      "text/plain": [
       "__main__.CreateDemandCallback"
      ]
     },
     "execution_count": 10,
     "metadata": {},
     "output_type": "execute_result"
    }
   ],
   "source": [
    "type(demands_at_locations)"
   ]
  },
  {
   "cell_type": "code",
   "execution_count": 11,
   "metadata": {},
   "outputs": [
    {
     "data": {
      "text/plain": [
       "method"
      ]
     },
     "execution_count": 11,
     "metadata": {},
     "output_type": "execute_result"
    }
   ],
   "source": [
    "type(demands_callback)"
   ]
  },
  {
   "cell_type": "code",
   "execution_count": 12,
   "metadata": {},
   "outputs": [
    {
     "data": {
      "text/plain": [
       "True"
      ]
     },
     "execution_count": 12,
     "metadata": {},
     "output_type": "execute_result"
    }
   ],
   "source": [
    "# Add a dimension for demand.\n",
    "slack_max = 0\n",
    "#Set max capacity for each vehicle\n",
    "vehicle_capacity = 100\n",
    "fix_start_cumul_to_zero = True\n",
    "demand = \"Demand\"\n",
    "routing.AddDimension(demands_callback, slack_max, vehicle_capacity,\n",
    "                     fix_start_cumul_to_zero, demand)"
   ]
  },
  {
   "cell_type": "markdown",
   "metadata": {},
   "source": [
    "### 3.2 Solver"
   ]
  },
  {
   "cell_type": "code",
   "execution_count": 13,
   "metadata": {},
   "outputs": [
    {
     "name": "stdout",
     "output_type": "stream",
     "text": [
      "Total distance of all routes: 970\n",
      "\n",
      "Route for vehicle 0:\n",
      "\n",
      "0 -> 14 -> 2 -> 3 -> 23 -> 4 -> 11 -> 28 -> 6 -> 26 -> 0\n",
      "\n",
      "Distance of route 0: 300\n",
      "Demand met by vehicle 0: 100\n",
      "\n",
      "Route for vehicle 1:\n",
      "\n",
      "0 -> 27 -> 24 -> 0\n",
      "\n",
      "Distance of route 1: 78\n",
      "Demand met by vehicle 1: 44\n",
      "\n",
      "Route for vehicle 2:\n",
      "\n",
      "0 -> 20 -> 5 -> 25 -> 10 -> 15 -> 22 -> 9 -> 8 -> 18 -> 29 -> 0\n",
      "\n",
      "Distance of route 2: 316\n",
      "Demand met by vehicle 2: 98\n",
      "\n",
      "Route for vehicle 3:\n",
      "\n",
      "0 -> 12 -> 1 -> 16 -> 30 -> 0\n",
      "\n",
      "Distance of route 3: 96\n",
      "Demand met by vehicle 3: 72\n",
      "\n",
      "Route for vehicle 4:\n",
      "\n",
      "0 -> 13 -> 21 -> 31 -> 19 -> 17 -> 7 -> 0\n",
      "\n",
      "Distance of route 4: 180\n",
      "Demand met by vehicle 4: 96\n",
      "\n"
     ]
    }
   ],
   "source": [
    "# Solve, displays a solution if any.\n",
    "assignment = routing.SolveWithParameters(search_parameters)\n",
    "if assignment:\n",
    "    # Display solution.\n",
    "    # Solution cost.\n",
    "    print(\"Total distance of all routes: \" + str(assignment.ObjectiveValue()) + \"\\n\") \n",
    "\n",
    "    for vehicle_nbr in range(num_vehicles):\n",
    "        index = routing.Start(vehicle_nbr)\n",
    "        index_next = assignment.Value(routing.NextVar(index))\n",
    "        route = ''\n",
    "        route_dist = 0\n",
    "        route_demand = 0\n",
    "\n",
    "        while not routing.IsEnd(index_next):\n",
    "            node_index = routing.IndexToNode(index)\n",
    "            node_index_next = routing.IndexToNode(index_next)\n",
    "            route += str(node_index) + \" -> \"\n",
    "            # Add the distance to the next node.\n",
    "            route_dist += dist_callback(node_index, node_index_next)\n",
    "            # Add demand.\n",
    "            route_demand += demands[node_index_next]\n",
    "            index = index_next\n",
    "            index_next = assignment.Value(routing.NextVar(index))\n",
    "\n",
    "        node_index = routing.IndexToNode(index)\n",
    "        node_index_next = routing.IndexToNode(index_next)\n",
    "        route += str(node_index) + \" -> \" + str(node_index_next)\n",
    "        route_dist += dist_callback(node_index, node_index_next)\n",
    "        print(\"Route for vehicle \" + str(vehicle_nbr) + \":\\n\\n\" + route + \"\\n\") \n",
    "        print(\"Distance of route \" + str(vehicle_nbr) + \": \" + str(route_dist)) \n",
    "        print( \"Demand met by vehicle \" + str(vehicle_nbr) + \": \" + str(route_demand) + \"\\n\")"
   ]
  }
 ],
 "metadata": {
  "kernelspec": {
   "display_name": "Python 3",
   "language": "python",
   "name": "python3"
  },
  "language_info": {
   "codemirror_mode": {
    "name": "ipython",
    "version": 3
   },
   "file_extension": ".py",
   "mimetype": "text/x-python",
   "name": "python",
   "nbconvert_exporter": "python",
   "pygments_lexer": "ipython3",
   "version": "3.6.4"
  }
 },
 "nbformat": 4,
 "nbformat_minor": 2
}
