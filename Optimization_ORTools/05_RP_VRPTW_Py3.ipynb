{
 "cells": [
  {
   "cell_type": "markdown",
   "metadata": {},
   "source": [
    "# Vehicle Routing Problem with Time Windows"
   ]
  },
  {
   "cell_type": "code",
   "execution_count": 1,
   "metadata": {},
   "outputs": [],
   "source": [
    "import math\n",
    "from ortools.constraint_solver import pywrapcp\n",
    "from ortools.constraint_solver import routing_enums_pb2"
   ]
  },
  {
   "cell_type": "markdown",
   "metadata": {},
   "source": [
    "Vehicles must make deliveries at each node between the start time and the end time. Note that there is no time window at the depot. We arbitrarily set the start and end times at the depot to 0, but this has no effect on the results."
   ]
  },
  {
   "cell_type": "markdown",
   "metadata": {},
   "source": [
    "## 1.Create input data"
   ]
  },
  {
   "cell_type": "code",
   "execution_count": 2,
   "metadata": {},
   "outputs": [],
   "source": [
    "def create_data_array():\n",
    "    locations = [[820, 760], [960, 440], [500, 50], [490, 80], [130, 70], [290, 890], [580, 300],\n",
    "             [840, 390], [140, 240], [120, 390], [30, 820], [50, 100], [980, 520], [840, 250],\n",
    "             [610, 590], [10, 650], [880, 510], [910, 20], [190, 320], [930, 30], [500, 930],\n",
    "             [980, 140], [50, 420], [420, 90], [610, 620], [90, 970], [800, 550], [570, 690],\n",
    "             [230, 150], [200, 700], [850, 600], [980, 50]]\n",
    "    demands =  [0, 19, 21, 6, 19, 7, 12, 16, 6, 16, 8, 14, 21, 16, 3, 22, 18,\n",
    "               19, 1, 24, 8, 12, 4, 8, 24, 24, 2, 20, 15, 2, 14, 9]\n",
    "    start_times =  [0, 508, 103, 493, 225, 531, 89,\n",
    "                    565, 540, 108, 602, 466, 356, 303,\n",
    "                    399, 382, 362, 521, 23, 489, 445,\n",
    "                    318, 380, 55, 574, 515, 110, 310,\n",
    "                    387, 491, 328, 73]\n",
    "    # tw_duration is the width of the time windows.\n",
    "    tw_duration = 2150\n",
    "    # In this example, the width is the same at each location, so we define the end times to be\n",
    "    # start times + tw_duration. For problems in which the time window widths vary by location,\n",
    "    # you can explicitly define the list of end_times, as we have done for start_times.\n",
    "    end_times = [0] * len(start_times)\n",
    "    for i in range(len(start_times)):\n",
    "        end_times[i] = start_times[i] + tw_duration\n",
    "    data = [locations, demands, start_times, end_times]\n",
    "    return data"
   ]
  },
  {
   "cell_type": "code",
   "execution_count": 3,
   "metadata": {},
   "outputs": [],
   "source": [
    "def distance(x1, y1, x2, y2):\n",
    "    # Manhattan distance\n",
    "    dist = abs(x1 - x2) + abs(y1 - y2)\n",
    "    return dist"
   ]
  },
  {
   "cell_type": "code",
   "execution_count": 4,
   "metadata": {},
   "outputs": [],
   "source": [
    "# Distance callback\n",
    "\n",
    "class CreateDistanceCallback(object):\n",
    "    \"\"\"Create callback to calculate distances and travel times between points.\"\"\"\n",
    "    def __init__(self, locations):\n",
    "        \"\"\"Initialize distance array.\"\"\"\n",
    "        num_locations = len(locations)\n",
    "        self.matrix = {}\n",
    "        for from_node in range(num_locations):\n",
    "            self.matrix[from_node] = {}\n",
    "            for to_node in range(num_locations):\n",
    "                x1 = locations[from_node][0]\n",
    "                y1 = locations[from_node][1]\n",
    "                x2 = locations[to_node][0]\n",
    "                y2 = locations[to_node][1]\n",
    "                self.matrix[from_node][to_node] = distance(x1, y1, x2, y2)\n",
    "    def Distance(self, from_node, to_node):\n",
    "        return int(self.matrix[from_node][to_node])"
   ]
  },
  {
   "cell_type": "code",
   "execution_count": 5,
   "metadata": {},
   "outputs": [],
   "source": [
    "# Demand callback\n",
    "class CreateDemandCallback(object):\n",
    "    \"\"\"Create callback to get demands at location node.\"\"\"\n",
    "    def __init__(self, demands):\n",
    "        self.matrix = demands\n",
    "    def Demand(self, from_node, to_node):\n",
    "        return self.matrix[from_node]\n"
   ]
  },
  {
   "cell_type": "markdown",
   "metadata": {},
   "source": [
    "We need a way to calculate the time a vehicle must spend at a location and the travel time to the next location on its route. More specifically, we must write callbacks to calculate the following:\n",
    "* The service time — how long it takes to make a delivery or provide a service at each location. In this example, we assume the service time is proportional to the demand at the location\n",
    "\n",
    "In time dimension time_per_demand_unit is set to 3\n",
    "\n",
    "* The travel time between locations. We assume that all vehicles travel at the same speed, so travel time is just the distance between locations divided by speed.\n",
    "\n",
    "Once again, in time dimension set speed  to 1\n",
    "\n",
    "* The total time between locations, which is the service time at the starting location plus the travel time to the next location."
   ]
  },
  {
   "cell_type": "code",
   "execution_count": 6,
   "metadata": {},
   "outputs": [],
   "source": [
    "# Service time (proportional to demand) callback.\n",
    "class CreateServiceTimeCallback(object):\n",
    "    \"\"\"Create callback to get time windows at each location.\"\"\"\n",
    "    def __init__(self, demands, time_per_demand_unit):\n",
    "        self.matrix = demands\n",
    "        self.time_per_demand_unit = time_per_demand_unit\n",
    "    def ServiceTime(self, from_node, to_node):\n",
    "        return int(self.matrix[from_node] * self.time_per_demand_unit)"
   ]
  },
  {
   "cell_type": "code",
   "execution_count": 7,
   "metadata": {},
   "outputs": [],
   "source": [
    "# Create the travel time callback (equals distance divided by speed).\n",
    "class CreateTravelTimeCallback(object):\n",
    "    \"\"\"Create callback to get travel times between locations.\"\"\"\n",
    "    def __init__(self, dist_callback, speed):\n",
    "        self.dist_callback = dist_callback\n",
    "        self.speed = speed\n",
    "    def TravelTime(self, from_node, to_node):\n",
    "        travel_time = self.dist_callback(from_node, to_node) / self.speed\n",
    "        return int(travel_time)"
   ]
  },
  {
   "cell_type": "code",
   "execution_count": 8,
   "metadata": {},
   "outputs": [],
   "source": [
    "# Create total_time callback (equals service time plus travel time).\n",
    "class CreateTotalTimeCallback(object):\n",
    "    \"\"\"Create callback to get total times between locations.\"\"\"\n",
    "    def __init__(self, service_time_callback, travel_time_callback):\n",
    "        self.service_time_callback = service_time_callback\n",
    "        self.travel_time_callback = travel_time_callback\n",
    "    def TotalTime(self, from_node, to_node):\n",
    "        service_time = self.service_time_callback(from_node, to_node)\n",
    "        travel_time = self.travel_time_callback(from_node, to_node)\n",
    "        return service_time + travel_time"
   ]
  },
  {
   "cell_type": "code",
   "execution_count": 9,
   "metadata": {},
   "outputs": [],
   "source": [
    "# Create the data.\n",
    "data = create_data_array()\n",
    "locations = data[0]\n",
    "demands = data[1]\n",
    "start_times = data[2]\n",
    "end_times = data[3]\n",
    "num_locations = len(locations)\n",
    "depot = 0\n",
    "\n",
    "search_time_limit = 400000"
   ]
  },
  {
   "cell_type": "code",
   "execution_count": 10,
   "metadata": {},
   "outputs": [
    {
     "name": "stdout",
     "output_type": "stream",
     "text": [
      "Number of locations is:  32 which accounts for:  410 units of demand\n"
     ]
    }
   ],
   "source": [
    "num_locations\n",
    "MaxTotalDemand=sum(demands)\n",
    "\n",
    "print(\"Number of locations is: \", num_locations, \"which accounts for: \", MaxTotalDemand, \"units of demand\")"
   ]
  },
  {
   "cell_type": "markdown",
   "metadata": {},
   "source": [
    "## Parameters:"
   ]
  },
  {
   "cell_type": "code",
   "execution_count": 11,
   "metadata": {},
   "outputs": [],
   "source": [
    "num_vehicles = 5\n",
    "#To Time Dimension\n",
    "speed = 1\n",
    "#To Capacity Dimension\n",
    "VehicleCapacity = 100;"
   ]
  },
  {
   "cell_type": "markdown",
   "metadata": {},
   "source": [
    "## 2.Add dimensions and callbacks"
   ]
  },
  {
   "cell_type": "code",
   "execution_count": 12,
   "metadata": {},
   "outputs": [],
   "source": [
    "# Create routing model.\n",
    "# The number of nodes of the VRP is num_locations.\n",
    "# Nodes are indexed from 0 to num_locations - 1. By default the start of\n",
    "# a route is node 0.\n",
    "routing = pywrapcp.RoutingModel(num_locations, num_vehicles, depot)\n",
    "#search_parameters = pywrapcp.DefaultRoutingSearchParameters()\n",
    "#search_parameters = pywrapcp.RoutingModel.DefaultModelParameters()\n",
    "search_parameters = pywrapcp.RoutingModel_DefaultSearchParameters()"
   ]
  },
  {
   "cell_type": "code",
   "execution_count": 13,
   "metadata": {},
   "outputs": [],
   "source": [
    "# Callbacks to the distance function and travel time functions here.\n",
    "dist_between_locations = CreateDistanceCallback(locations)\n",
    "dist_callback = dist_between_locations.Distance\n",
    "routing.SetArcCostEvaluatorOfAllVehicles(dist_callback)\n",
    "demands_at_locations = CreateDemandCallback(demands)\n",
    "demands_callback = demands_at_locations.Demand"
   ]
  },
  {
   "cell_type": "code",
   "execution_count": 14,
   "metadata": {},
   "outputs": [
    {
     "data": {
      "text/plain": [
       "True"
      ]
     },
     "execution_count": 14,
     "metadata": {},
     "output_type": "execute_result"
    }
   ],
   "source": [
    "# Adding capacity dimension constraints.\n",
    "\n",
    "\n",
    "NullCapacitySlack = 0;\n",
    "fix_start_cumul_to_zero = True\n",
    "capacity = \"Capacity\"\n",
    "routing.AddDimension(demands_callback, NullCapacitySlack, VehicleCapacity,\n",
    "                     fix_start_cumul_to_zero, capacity)"
   ]
  },
  {
   "cell_type": "markdown",
   "metadata": {},
   "source": [
    "Checking problem feasibility:\n",
    "* Vehicle capacity is set at 100\n",
    "* Number of vehicles is set to 5\n",
    "\n",
    "So we must compute the total demand to be supplied, and check whether it is a lower quantity than capacity*NVehicles"
   ]
  },
  {
   "cell_type": "code",
   "execution_count": 16,
   "metadata": {},
   "outputs": [
    {
     "name": "stdout",
     "output_type": "stream",
     "text": [
      "Total Fleet Capacity is:  500 which is higher than demand to be delivered:  410\n"
     ]
    }
   ],
   "source": [
    "FleetCap=VehicleCapacity*num_vehicles\n",
    "\n",
    "cond = MaxTotalDemand<=FleetCap\n",
    "\n",
    "if cond:\n",
    "    print(\"Total Fleet Capacity is: \",FleetCap, \"which is higher than demand to be delivered: \",MaxTotalDemand)\n",
    "else:\n",
    "     print(\"Total Fleet Capacity is: \",FleetCap, \"which is lower than demand to be delivered: \",MaxTotalDemand)"
   ]
  },
  {
   "cell_type": "markdown",
   "metadata": {},
   "source": [
    "The significant inputs to the AddDimension method are the following:\n",
    "\n",
    "* total_time_callback — Returns the service time plus travel time to the next location.\n",
    "* horizon — An upper bound for the accumulated time over each vehicle's route. This sets a global time window of [0, horizon] for all locations. To set the individual time windows at each location, you need to set ranges on the cumulative variable for time, as shown in Add time window constraints.\n",
    "* fix_start_cumul_to_zero — Since the value is True, the cumulative variable for time is set to 0 at the start of each vehicle's route.\n",
    "* time — The name of the dimension, which you can use to access data or variables stored in it."
   ]
  },
  {
   "cell_type": "code",
   "execution_count": 17,
   "metadata": {},
   "outputs": [
    {
     "data": {
      "text/plain": [
       "True"
      ]
     },
     "execution_count": 17,
     "metadata": {},
     "output_type": "execute_result"
    }
   ],
   "source": [
    "# Add time dimension.\n",
    "time_per_demand_unit = 3\n",
    "horizon = 24 * 3600\n",
    "time = \"Time\"\n",
    "\n",
    "service_times = CreateServiceTimeCallback(demands, time_per_demand_unit)\n",
    "service_time_callback = service_times.ServiceTime\n",
    "travel_times = CreateTravelTimeCallback(dist_callback, speed)\n",
    "travel_time_callback = travel_times.TravelTime\n",
    "total_times = CreateTotalTimeCallback(service_time_callback, travel_time_callback)\n",
    "total_time_callback = total_times.TotalTime\n",
    "routing.AddDimension(total_time_callback,  # total time function callback\n",
    "                     horizon,\n",
    "                     horizon,\n",
    "                     fix_start_cumul_to_zero,\n",
    "                     time)"
   ]
  },
  {
   "cell_type": "code",
   "execution_count": 18,
   "metadata": {},
   "outputs": [],
   "source": [
    "# Add time window constraints.\n",
    "# To add time window constraints for the problem, first access the time dimension by its name as follows:\n",
    "#Note that time_dimension.CumulVar(location) is the cumulative time for the vehicle along its route. So for each location, the following \n",
    "# command requires the cumulative time to be in the window for that location, as specified by start_times and end_times.\n",
    "time_dimension = routing.GetDimensionOrDie(time)\n",
    "for location in range(1, num_locations):\n",
    "    start = start_times[location]\n",
    "    end = end_times[location]\n",
    "    time_dimension.CumulVar(location).SetRange(start, end)"
   ]
  },
  {
   "cell_type": "markdown",
   "metadata": {},
   "source": [
    "## 3. Compute a Solution"
   ]
  },
  {
   "cell_type": "code",
   "execution_count": 19,
   "metadata": {},
   "outputs": [
    {
     "name": "stdout",
     "output_type": "stream",
     "text": [
      "Total distance of all routes: 10560\n",
      "\n",
      "Route 0: 0 Load(0) Time(0, 0) ->  27 Load(0) Time(320, 330) ->  18 Load(20) Time(1130, 1140) ->  8 Load(21) Time(1263, 1273) ->  11 Load(27) Time(1511, 1521) ->  4 Load(41) Time(1663, 1673) ->  28 Load(60) Time(1900, 1910) ->  23 Load(75) Time(2195, 2205) ->  3 Load(83) Time(2299, 2643) ->  0 Load(89) Time(3327, 86400)\n",
      "\n",
      "\n",
      "Route 1: 0 Load(0) Time(0, 0) ->  21 Load(0) Time(780, 978) ->  31 Load(12) Time(906, 1104) ->  19 Load(21) Time(1003, 1201) ->  17 Load(45) Time(1105, 1303) ->  2 Load(64) Time(1602, 1800) ->  6 Load(85) Time(1995, 2193) ->  14 Load(97) Time(2351, 2549) ->  0 Load(100) Time(2740, 86400)\n",
      "\n",
      "\n",
      "Route 2: 0 Load(0) Time(0, 0) ->  20 Load(0) Time(490, 684) ->  5 Load(8) Time(764, 958) ->  25 Load(15) Time(1065, 1259) ->  10 Load(39) Time(1347, 1541) ->  15 Load(47) Time(1561, 1755) ->  22 Load(69) Time(1897, 2091) ->  9 Load(73) Time(2009, 2203) ->  29 Load(89) Time(2447, 2641) ->  0 Load(91) Time(3133, 86400)\n",
      "\n",
      "\n",
      "Route 3: 0 Load(0) Time(0, 0) ->  24 Load(0) Time(574, 2146) ->  30 Load(24) Time(906, 2478) ->  0 Load(38) Time(1138, 86400)\n",
      "\n",
      "\n",
      "Route 4: 0 Load(0) Time(0, 0) ->  26 Load(0) Time(230, 1430) ->  13 Load(2) Time(576, 1776) ->  7 Load(18) Time(764, 1964) ->  1 Load(34) Time(982, 2182) ->  12 Load(53) Time(1139, 2339) ->  16 Load(74) Time(1312, 2512) ->  0 Load(92) Time(1676, 86400)\n",
      "\n",
      "\n"
     ]
    }
   ],
   "source": [
    "#A list containing every route as a string\n",
    "routeStr_list=[]\n",
    "# Solve displays a solution if any.\n",
    "assignment = routing.SolveWithParameters(search_parameters)\n",
    "if assignment:\n",
    "    size = len(locations)\n",
    "    # Solution cost.\n",
    "    print(\"Total distance of all routes: \" + str(assignment.ObjectiveValue()) + \"\\n\") \n",
    "    # Inspect solution.\n",
    "    capacity_dimension = routing.GetDimensionOrDie(capacity);\n",
    "    time_dimension = routing.GetDimensionOrDie(time);\n",
    "\n",
    "    for vehicle_nbr in range(num_vehicles):\n",
    "        index = routing.Start(vehicle_nbr)\n",
    "        plan_output = 'Route {0}:'.format(vehicle_nbr)\n",
    "\n",
    "        while not routing.IsEnd(index):\n",
    "            node_index = routing.IndexToNode(index)\n",
    "            load_var = capacity_dimension.CumulVar(index)\n",
    "            time_var = time_dimension.CumulVar(index)\n",
    "            plan_output += \\\n",
    "                       \" {node_index} Load({load}) Time({tmin}, {tmax}) -> \".format(\n",
    "                           node_index=node_index,\n",
    "                           load=assignment.Value(load_var),\n",
    "                           tmin=str(assignment.Min(time_var)),\n",
    "                           tmax=str(assignment.Max(time_var)))\n",
    "            index = assignment.Value(routing.NextVar(index))\n",
    "\n",
    "        node_index = routing.IndexToNode(index)\n",
    "        load_var = capacity_dimension.CumulVar(index)\n",
    "        time_var = time_dimension.CumulVar(index)\n",
    "        plan_output += \\\n",
    "                  \" {node_index} Load({load}) Time({tmin}, {tmax})\".format(\n",
    "                      node_index=node_index,\n",
    "                      load=assignment.Value(load_var),\n",
    "                      tmin=str(assignment.Min(time_var)),\n",
    "                      tmax=str(assignment.Max(time_var)))\n",
    "        print(plan_output) \n",
    "        print(\"\\n\") \n",
    "        routeStr_list= routeStr_list + [plan_output]\n",
    "else:\n",
    "    print('No solution found.')"
   ]
  },
  {
   "cell_type": "markdown",
   "metadata": {},
   "source": [
    "**Output:**\n",
    "* load_var contains the cumulative load (just another word for demand) at each location. This is the sum of the demands at the previously visited locations on the route.\n",
    "* time_var contains the delivery time windows, calculated by the solver, at each location. A vehicle can make its delivery at any time in the time window for a location, and still make it to the next location on its route within the scheduled delivery time window for that location.\n",
    "\n",
    "It can be checked that the right-hand endpoint of the delivery window for each location (other than the depot) is contained in the delivery window for the next location on the route. This means that a vehicle can arrive at any time during the time window for a location, and still get to the next location in time to make its delivery there."
   ]
  },
  {
   "cell_type": "markdown",
   "metadata": {},
   "source": [
    "### Route 0 Analysis:"
   ]
  },
  {
   "cell_type": "code",
   "execution_count": 20,
   "metadata": {},
   "outputs": [
    {
     "data": {
      "text/plain": [
       "'Route 0: 0 Load(0) Time(0, 0) ->  27 Load(0) Time(320, 330) ->  18 Load(20) Time(1130, 1140) ->  8 Load(21) Time(1263, 1273) ->  11 Load(27) Time(1511, 1521) ->  4 Load(41) Time(1663, 1673) ->  28 Load(60) Time(1900, 1910) ->  23 Load(75) Time(2195, 2205) ->  3 Load(83) Time(2299, 2643) ->  0 Load(89) Time(3327, 86400)'"
      ]
     },
     "execution_count": 20,
     "metadata": {},
     "output_type": "execute_result"
    }
   ],
   "source": [
    "routeStr_list[0]"
   ]
  },
  {
   "cell_type": "markdown",
   "metadata": {},
   "source": [
    "** Check first node (index 27) **"
   ]
  },
  {
   "cell_type": "markdown",
   "metadata": {},
   "source": [
    "At the first location (node 27), 20 units are delivered, so Load adds up to 20. Delivery must take place at any time between 320 and 330 in order to keep up with the schedulle and comply with the time window at the node, which is 310-2460."
   ]
  },
  {
   "cell_type": "code",
   "execution_count": 33,
   "metadata": {},
   "outputs": [
    {
     "name": "stdout",
     "output_type": "stream",
     "text": [
      "node loc: [570, 690] , demand:  20 , start_time:  310 , end_time:  2460\n"
     ]
    }
   ],
   "source": [
    "nodeID=27\n",
    "print(\"node loc:\", data[0][nodeID], \n",
    "      \", demand: \", data[1][nodeID], \n",
    "      \", start_time: \", data[2][nodeID], \n",
    "      \", end_time: \", data[3][nodeID])\n",
    " "
   ]
  },
  {
   "cell_type": "code",
   "execution_count": 37,
   "metadata": {},
   "outputs": [
    {
     "name": "stdout",
     "output_type": "stream",
     "text": [
      "Travelling time to node 27 :  320\n"
     ]
    }
   ],
   "source": [
    "x1 = data[0][0][0]\n",
    "y1 = data[0][0][1]\n",
    "x2 = data[0][27][0]\n",
    "y2 = data[0][27][1]\n",
    "\n",
    "print(\"Travelling time to node\", nodeID, \": \", distance(x1, y1, x2, y2) * speed)"
   ]
  },
  {
   "cell_type": "markdown",
   "metadata": {},
   "source": [
    "The soluiton is feasible because the time to travel is 320 which lies between start_tw and end_tw  and  Time(320, 330)."
   ]
  },
  {
   "cell_type": "markdown",
   "metadata": {},
   "source": [
    "** Check first node (index 18) **"
   ]
  },
  {
   "cell_type": "markdown",
   "metadata": {},
   "source": [
    "At the second location (node 18), 1 unit is delivered, so Load adds up to 21.\n",
    "Delivery must take place at any time between 1130 and 1140 in order to keep up with the schedulle and comply with the time window at the node, which is  23-2173."
   ]
  },
  {
   "cell_type": "code",
   "execution_count": 39,
   "metadata": {},
   "outputs": [
    {
     "name": "stdout",
     "output_type": "stream",
     "text": [
      "node loc: [190, 320] , demand:  1 , start_time:  23 , end_time:  2173\n"
     ]
    }
   ],
   "source": [
    "nodeID=18\n",
    "print(\"node loc:\", data[0][nodeID], \n",
    "      \", demand: \", data[1][nodeID], \n",
    "      \", start_time: \", data[2][nodeID], \n",
    "      \", end_time: \", data[3][nodeID])\n",
    "#Product is delivered at time 1130 and the limit time is 2173, the vehicle leaves that noted at 1140 "
   ]
  },
  {
   "cell_type": "code",
   "execution_count": 41,
   "metadata": {},
   "outputs": [
    {
     "name": "stdout",
     "output_type": "stream",
     "text": [
      "Travelling time to node 18 :  750\n"
     ]
    }
   ],
   "source": [
    "x1 = data[0][27][0]\n",
    "y1 = data[0][27][1]\n",
    "x2 = data[0][18][0]\n",
    "y2 = data[0][18][1]\n",
    "\n",
    "print(\"Travelling time to node\", nodeID, \": \", distance(x1, y1, x2, y2) * speed)"
   ]
  },
  {
   "cell_type": "markdown",
   "metadata": {},
   "source": [
    "The soluiton is feasible because time to travel is 750 and the service time at the previous node is 20*3=60. which lies between start_tw and end_tw  and  Time(320, 330). Therefore, adding up every former times: 320+60+750=1130"
   ]
  },
  {
   "cell_type": "markdown",
   "metadata": {},
   "source": [
    "** Check first node (index 8) **"
   ]
  },
  {
   "cell_type": "markdown",
   "metadata": {},
   "source": [
    "At the third location (node 8), 6 units are delivered, so Load adds up to 27.\n",
    "Delivery must take place at any time between  1263 and 1273   in order to keep up with the schedulle and comply with the time window at the node, which is  540-2690."
   ]
  },
  {
   "cell_type": "code",
   "execution_count": 43,
   "metadata": {},
   "outputs": [
    {
     "name": "stdout",
     "output_type": "stream",
     "text": [
      "node loc: [140, 240] , demand:  6 , start_time:  540 , end_time:  2690\n"
     ]
    }
   ],
   "source": [
    "nodeID=8\n",
    "print(\"node loc:\", data[0][nodeID], \n",
    "      \", demand: \", data[1][nodeID], \n",
    "      \", start_time: \", data[2][nodeID], \n",
    "      \", end_time: \", data[3][nodeID])\n",
    "#Product is delivered at time 1263 and the limit time is 2690, the vehicle leaves that noted at 1273 "
   ]
  },
  {
   "cell_type": "code",
   "execution_count": 44,
   "metadata": {},
   "outputs": [
    {
     "name": "stdout",
     "output_type": "stream",
     "text": [
      "Travelling time to node 8 :  130\n"
     ]
    }
   ],
   "source": [
    "x1 = data[0][18][0]\n",
    "y1 = data[0][18][1]\n",
    "x2 = data[0][8][0]\n",
    "y2 = data[0][8][1]\n",
    "\n",
    "print(\"Travelling time to node\", nodeID, \": \", distance(x1, y1, x2, y2) * speed)"
   ]
  },
  {
   "cell_type": "markdown",
   "metadata": {},
   "source": [
    "The soluiton is feasible because time to travel is 130 and the service time at the previous node is 1*3=3. Therefore, adding up every former times: 1130+3+130=1263"
   ]
  }
 ],
 "metadata": {
  "kernelspec": {
   "display_name": "Python 3",
   "language": "python",
   "name": "python3"
  },
  "language_info": {
   "codemirror_mode": {
    "name": "ipython",
    "version": 3
   },
   "file_extension": ".py",
   "mimetype": "text/x-python",
   "name": "python",
   "nbconvert_exporter": "python",
   "pygments_lexer": "ipython3",
   "version": "3.6.4"
  }
 },
 "nbformat": 4,
 "nbformat_minor": 2
}
