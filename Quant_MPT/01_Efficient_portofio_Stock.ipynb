{
 "cells": [
  {
   "cell_type": "markdown",
   "metadata": {},
   "source": [
    "Modern Portfolio Theory (MPT) assumptions:\n",
    "* Investors are rational and trade-off risk and return in an investment, therefore they seek to maxisizing profint while avoiding risk.\n",
    "* Information is spread evenly in market and no market friction is considered.\n",
    "* Investors have unlimietd access to borro and lend money at the risk free rate\n",
    "\n",
    "Given this assumptions, it is possible to construct a set of portfolios that maximizes profit at each given level of risk. Each investor risk aversion determines which efficient portfolio he will use. Of course, how to build that portfolio (when to buy or sell) is not considered.\n",
    "\n",
    "The main consequence is the necesity of diversification, that is, building a portfolio with uncorrelated returns time series may yield a higher profit than buying high return-high volatility stocks. Why?\n",
    "\n",
    "If return of an assest (bond or stock) is measured by average returns in a given period and risk (or volatility) is measured by variance, it can be shown that a portfolio variance is LESS than the sum of individual assets variances if they are NEGATIVELY UNCORRELATED:"
   ]
  },
  {
   "cell_type": "markdown",
   "metadata": {},
   "source": [
    "$$ \\text{given X, Y random variables that represents two assets monthly return: } X, Y ~N(\\mu, \\sigma) $$\n",
    "$$ E[aX+bY] = aE[x] + bE[y] $$\n",
    "$$ Var[aX+bY] = aVar[X] + bVar[Y] + 2abCov(X,Y) $$\n",
    "$$ \\text{Correlation: } \\rho_{X,Y}= \\frac{Cov(X,Y)}{\\sigma_{X}\\sigma_{Y}}$$\n"
   ]
  },
  {
   "cell_type": "markdown",
   "metadata": {},
   "source": [
    "When assets are negative correlated, covariance is also negative, so weighting more (buying more) of those assets, may perform a higher yield at lower volatility, **sadly, in a financial crisis, assets tend to correlate each other**. However, this demonstrates that how diversification works: Buy assets from diferent sectors that tend to have a complementary behavior and build a balanced portfolio, is up to further analysis when to buy or sell."
   ]
  },
  {
   "cell_type": "markdown",
   "metadata": {},
   "source": [
    "As those statistical formulas may be quite intimedating, let's crunch some numbers:\n",
    "* X and Y are normal random variables that simulate returns from two assets and a and b are weights of those assets in our portfolio.\n",
    "* First we set up population parameters and generate two random samples, \n",
    "* Then we compute mean and variance from our samples (remember those are sampling computation, that may not be exactly equal to population parameters)\n",
    "* Compute variable Z, that is, the return of our portfolio (built by X and Y in a and b proportion, respectively)\n",
    "* Get mean and variance of Z and verify the formulas."
   ]
  },
  {
   "cell_type": "code",
   "execution_count": 47,
   "metadata": {},
   "outputs": [
    {
     "name": "stdout",
     "output_type": "stream",
     "text": [
      "mean z:  148.18689824796786 \n",
      "var z:  1118.945889730694\n"
     ]
    }
   ],
   "source": [
    "mu_x = 10\n",
    "sigmasq_x = 9\n",
    "mu_y = 12\n",
    "sigmasq_y = 12\n",
    "\n",
    "a = 2\n",
    "b = 3\n",
    "\n",
    "x = a*np.random.normal(mu_x, sigmasq_x**0.5, 10000)\n",
    "y = b*np.random.normal(mu_y, sigmasq_y**0.5, 10000)\n",
    "mean_x, var_x =  np.mean(x), np.var(x)\n",
    "mean_y, var_y = np.mean(y), np.var(y)\n",
    "\n",
    "z = a*x + b*y\n",
    "mean_z= np.mean(z)\n",
    "var_z = np.var(z)\n",
    "print(\"mean z: \", mean_z, \"\\nvar z: \", var_z)"
   ]
  },
  {
   "cell_type": "code",
   "execution_count": 49,
   "metadata": {},
   "outputs": [
    {
     "name": "stdout",
     "output_type": "stream",
     "text": [
      "Computed mean z:  148.18689824796786 \n",
      "Computed var z:  1118.946270964569\n"
     ]
    }
   ],
   "source": [
    "cov_mat = np.cov(x,y)\n",
    "cov_xy = cov_mat[0,1]\n",
    "calc_mean_z = a*mean_x + b*mean_y\n",
    "calc_var_z = a*a*var_x + b*b*var_y + 2*a*b*cov_xy\n",
    "\n",
    "print(\"Computed mean z: \", calc_mean_z, \"\\nComputed var z: \", calc_var_z)"
   ]
  },
  {
   "cell_type": "code",
   "execution_count": 45,
   "metadata": {},
   "outputs": [],
   "source": [
    "#https://medium.com/python-data/effient-frontier-in-python-34b0c3043314\n",
    "#https://medium.com/python-data/efficient-frontier-portfolio-optimization-with-python-part-2-2-2fe23413ad94\n",
    "#https://towardsdatascience.com/efficient-frontier-portfolio-optimisation-in-python-e7844051e7f"
   ]
  },
  {
   "cell_type": "code",
   "execution_count": null,
   "metadata": {},
   "outputs": [],
   "source": []
  }
 ],
 "metadata": {
  "kernelspec": {
   "display_name": "Python 3",
   "language": "python",
   "name": "python3"
  },
  "language_info": {
   "codemirror_mode": {
    "name": "ipython",
    "version": 3
   },
   "file_extension": ".py",
   "mimetype": "text/x-python",
   "name": "python",
   "nbconvert_exporter": "python",
   "pygments_lexer": "ipython3",
   "version": "3.6.4"
  }
 },
 "nbformat": 4,
 "nbformat_minor": 2
}
